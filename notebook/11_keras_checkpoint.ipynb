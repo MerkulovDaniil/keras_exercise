{
 "cells": [
  {
   "cell_type": "code",
   "execution_count": 1,
   "metadata": {
    "collapsed": false
   },
   "outputs": [
    {
     "name": "stderr",
     "output_type": "stream",
     "text": [
      "Using TensorFlow backend.\n"
     ]
    }
   ],
   "source": [
    "# checkpoint the weights when validation accuracy improves\n",
    "from keras.models import Sequential\n",
    "from keras.layers import Dense\n",
    "from keras.callbacks import ModelCheckpoint\n",
    "import matplotlib.pyplot as plt\n",
    "import numpy\n",
    "\n",
    "# fix random seed for reproducibility\n",
    "seed = 7\n",
    "numpy.random.seed(seed)"
   ]
  },
  {
   "cell_type": "code",
   "execution_count": 2,
   "metadata": {
    "collapsed": true
   },
   "outputs": [],
   "source": [
    "# load pima indians dataset\n",
    "dataset = numpy.loadtxt(\"pima-indians-diabetes.csv\", delimiter=\",\")\n",
    "\n",
    "# split into input (X) and output (Y) variables\n",
    "X = dataset[:,0:8]\n",
    "Y = dataset[:,8]"
   ]
  },
  {
   "cell_type": "code",
   "execution_count": 3,
   "metadata": {
    "collapsed": true
   },
   "outputs": [],
   "source": [
    "# create model\n",
    "model = Sequential()\n",
    "model.add(Dense(12, input_dim=8, init='uniform', activation='relu'))\n",
    "model.add(Dense(8, init='uniform', activation='relu'))\n",
    "model.add(Dense(1, init='uniform', activation='sigmoid'))"
   ]
  },
  {
   "cell_type": "code",
   "execution_count": 4,
   "metadata": {
    "collapsed": true
   },
   "outputs": [],
   "source": [
    "# compile model\n",
    "model.compile(loss='binary_crossentropy', optimizer='adam', metrics=['accuracy'])\n",
    "\n",
    "# checkpoint\n",
    "filepath = \"weights-improvement-{epoch:02d}-{val_acc:.2f}.hdf5\"\n",
    "checkpoint = ModelCheckpoint(filepath, monitor='val_acc', verbose=1, save_best_only=True, mode='max')\n",
    "callbacks_list = [checkpoint]"
   ]
  },
  {
   "cell_type": "code",
   "execution_count": 8,
   "metadata": {
    "collapsed": false
   },
   "outputs": [
    {
     "name": "stdout",
     "output_type": "stream",
     "text": [
      "Epoch 00000: val_acc did not improve\n",
      "Epoch 00001: val_acc did not improve\n",
      "Epoch 00002: val_acc did not improve\n",
      "Epoch 00003: val_acc did not improve\n",
      "Epoch 00004: val_acc did not improve\n",
      "Epoch 00005: val_acc did not improve\n",
      "Epoch 00006: val_acc did not improve\n",
      "Epoch 00007: val_acc did not improve\n",
      "Epoch 00008: val_acc did not improve\n",
      "Epoch 00009: val_acc did not improve\n",
      "Epoch 00010: val_acc did not improve\n",
      "Epoch 00011: val_acc did not improve\n",
      "Epoch 00012: val_acc improved from 0.79528 to 0.79921, saving model to weights.best.hdf5\n",
      "Epoch 00013: val_acc did not improve\n",
      "Epoch 00014: val_acc did not improve\n",
      "Epoch 00015: val_acc did not improve\n",
      "Epoch 00016: val_acc did not improve\n",
      "Epoch 00017: val_acc did not improve\n",
      "Epoch 00018: val_acc did not improve\n",
      "Epoch 00019: val_acc did not improve\n",
      "Epoch 00020: val_acc did not improve\n",
      "Epoch 00021: val_acc did not improve\n",
      "Epoch 00022: val_acc did not improve\n",
      "Epoch 00023: val_acc did not improve\n",
      "Epoch 00024: val_acc did not improve\n",
      "Epoch 00025: val_acc did not improve\n",
      "Epoch 00026: val_acc did not improve\n",
      "Epoch 00027: val_acc did not improve\n",
      "Epoch 00028: val_acc did not improve\n",
      "Epoch 00029: val_acc did not improve\n",
      "Epoch 00030: val_acc did not improve\n",
      "Epoch 00031: val_acc did not improve\n",
      "Epoch 00032: val_acc did not improve\n",
      "Epoch 00033: val_acc did not improve\n",
      "Epoch 00034: val_acc did not improve\n",
      "Epoch 00035: val_acc improved from 0.79921 to 0.79921, saving model to weights.best.hdf5\n",
      "Epoch 00036: val_acc did not improve\n",
      "Epoch 00037: val_acc did not improve\n",
      "Epoch 00038: val_acc did not improve\n",
      "Epoch 00039: val_acc did not improve\n",
      "Epoch 00040: val_acc did not improve\n",
      "Epoch 00041: val_acc did not improve\n",
      "Epoch 00042: val_acc did not improve\n",
      "Epoch 00043: val_acc did not improve\n",
      "Epoch 00044: val_acc did not improve\n",
      "Epoch 00045: val_acc did not improve\n",
      "Epoch 00046: val_acc did not improve\n",
      "Epoch 00047: val_acc did not improve\n",
      "Epoch 00048: val_acc did not improve\n",
      "Epoch 00049: val_acc did not improve\n",
      "Epoch 00050: val_acc did not improve\n",
      "Epoch 00051: val_acc did not improve\n",
      "Epoch 00052: val_acc did not improve\n",
      "Epoch 00053: val_acc did not improve\n",
      "Epoch 00054: val_acc did not improve\n",
      "Epoch 00055: val_acc did not improve\n",
      "Epoch 00056: val_acc did not improve\n",
      "Epoch 00057: val_acc did not improve\n",
      "Epoch 00058: val_acc did not improve\n",
      "Epoch 00059: val_acc did not improve\n",
      "Epoch 00060: val_acc did not improve\n",
      "Epoch 00061: val_acc did not improve\n",
      "Epoch 00062: val_acc did not improve\n",
      "Epoch 00063: val_acc did not improve\n",
      "Epoch 00064: val_acc did not improve\n",
      "Epoch 00065: val_acc did not improve\n",
      "Epoch 00066: val_acc did not improve\n",
      "Epoch 00067: val_acc did not improve\n",
      "Epoch 00068: val_acc did not improve\n",
      "Epoch 00069: val_acc did not improve\n",
      "Epoch 00070: val_acc did not improve\n",
      "Epoch 00071: val_acc did not improve\n",
      "Epoch 00072: val_acc did not improve\n",
      "Epoch 00073: val_acc did not improve\n",
      "Epoch 00074: val_acc did not improve\n",
      "Epoch 00075: val_acc did not improve\n",
      "Epoch 00076: val_acc did not improve\n",
      "Epoch 00077: val_acc did not improve\n",
      "Epoch 00078: val_acc did not improve\n",
      "Epoch 00079: val_acc did not improve\n",
      "Epoch 00080: val_acc did not improve\n",
      "Epoch 00081: val_acc did not improve\n",
      "Epoch 00082: val_acc did not improve\n",
      "Epoch 00083: val_acc did not improve\n",
      "Epoch 00084: val_acc did not improve\n",
      "Epoch 00085: val_acc did not improve\n",
      "Epoch 00086: val_acc did not improve\n",
      "Epoch 00087: val_acc did not improve\n",
      "Epoch 00088: val_acc did not improve\n",
      "Epoch 00089: val_acc did not improve\n",
      "Epoch 00090: val_acc did not improve\n",
      "Epoch 00091: val_acc did not improve\n",
      "Epoch 00092: val_acc did not improve\n",
      "Epoch 00093: val_acc did not improve\n",
      "Epoch 00094: val_acc did not improve\n",
      "Epoch 00095: val_acc did not improve\n",
      "Epoch 00096: val_acc did not improve\n",
      "Epoch 00097: val_acc did not improve\n",
      "Epoch 00098: val_acc did not improve\n",
      "Epoch 00099: val_acc did not improve\n",
      "Epoch 00100: val_acc did not improve\n",
      "Epoch 00101: val_acc did not improve\n",
      "Epoch 00102: val_acc did not improve\n",
      "Epoch 00103: val_acc did not improve\n",
      "Epoch 00104: val_acc did not improve\n",
      "Epoch 00105: val_acc did not improve\n",
      "Epoch 00106: val_acc did not improve\n",
      "Epoch 00107: val_acc did not improve\n",
      "Epoch 00108: val_acc did not improve\n",
      "Epoch 00109: val_acc did not improve\n",
      "Epoch 00110: val_acc did not improve\n",
      "Epoch 00111: val_acc did not improve\n",
      "Epoch 00112: val_acc did not improve\n",
      "Epoch 00113: val_acc did not improve\n",
      "Epoch 00114: val_acc did not improve\n",
      "Epoch 00115: val_acc did not improve\n",
      "Epoch 00116: val_acc did not improve\n",
      "Epoch 00117: val_acc did not improve\n",
      "Epoch 00118: val_acc did not improve\n",
      "Epoch 00119: val_acc did not improve\n",
      "Epoch 00120: val_acc did not improve\n",
      "Epoch 00121: val_acc did not improve\n",
      "Epoch 00122: val_acc did not improve\n",
      "Epoch 00123: val_acc did not improve\n",
      "Epoch 00124: val_acc did not improve\n",
      "Epoch 00125: val_acc did not improve\n",
      "Epoch 00126: val_acc did not improve\n",
      "Epoch 00127: val_acc did not improve\n",
      "Epoch 00128: val_acc did not improve\n",
      "Epoch 00129: val_acc did not improve\n",
      "Epoch 00130: val_acc did not improve\n",
      "Epoch 00131: val_acc did not improve\n",
      "Epoch 00132: val_acc did not improve\n",
      "Epoch 00133: val_acc did not improve\n",
      "Epoch 00134: val_acc did not improve\n",
      "Epoch 00135: val_acc did not improve\n",
      "Epoch 00136: val_acc did not improve\n",
      "Epoch 00137: val_acc improved from 0.79921 to 0.80315, saving model to weights.best.hdf5\n",
      "Epoch 00138: val_acc did not improve\n",
      "Epoch 00139: val_acc did not improve\n",
      "Epoch 00140: val_acc did not improve\n",
      "Epoch 00141: val_acc did not improve\n",
      "Epoch 00142: val_acc did not improve\n",
      "Epoch 00143: val_acc did not improve\n",
      "Epoch 00144: val_acc did not improve\n",
      "Epoch 00145: val_acc did not improve\n",
      "Epoch 00146: val_acc did not improve\n",
      "Epoch 00147: val_acc did not improve\n",
      "Epoch 00148: val_acc did not improve\n",
      "Epoch 00149: val_acc did not improve\n"
     ]
    },
    {
     "data": {
      "text/plain": [
       "<keras.callbacks.History at 0x11b4ed490>"
      ]
     },
     "execution_count": 8,
     "metadata": {},
     "output_type": "execute_result"
    }
   ],
   "source": [
    "# fit the model\n",
    "model.fit(X, Y, validation_split=0.33, nb_epoch=150, batch_size=10, callbacks=callbacks_list, verbose=0)"
   ]
  },
  {
   "cell_type": "code",
   "execution_count": 7,
   "metadata": {
    "collapsed": false
   },
   "outputs": [
    {
     "name": "stdout",
     "output_type": "stream",
     "text": [
      "Epoch 00000: val_acc improved from -inf to 0.78346, saving model to weights.best.hdf5\n",
      "Epoch 00001: val_acc did not improve\n",
      "Epoch 00002: val_acc did not improve\n",
      "Epoch 00003: val_acc did not improve\n",
      "Epoch 00004: val_acc did not improve\n",
      "Epoch 00005: val_acc did not improve\n",
      "Epoch 00006: val_acc did not improve\n",
      "Epoch 00007: val_acc did not improve\n",
      "Epoch 00008: val_acc did not improve\n",
      "Epoch 00009: val_acc did not improve\n",
      "Epoch 00010: val_acc did not improve\n",
      "Epoch 00011: val_acc did not improve\n",
      "Epoch 00012: val_acc did not improve\n",
      "Epoch 00013: val_acc improved from 0.78346 to 0.78740, saving model to weights.best.hdf5\n",
      "Epoch 00014: val_acc improved from 0.78740 to 0.79134, saving model to weights.best.hdf5\n",
      "Epoch 00015: val_acc did not improve\n",
      "Epoch 00016: val_acc did not improve\n",
      "Epoch 00017: val_acc did not improve\n",
      "Epoch 00018: val_acc did not improve\n",
      "Epoch 00019: val_acc did not improve\n",
      "Epoch 00020: val_acc did not improve\n",
      "Epoch 00021: val_acc did not improve\n",
      "Epoch 00022: val_acc did not improve\n",
      "Epoch 00023: val_acc did not improve\n",
      "Epoch 00024: val_acc did not improve\n",
      "Epoch 00025: val_acc did not improve\n",
      "Epoch 00026: val_acc did not improve\n",
      "Epoch 00027: val_acc did not improve\n",
      "Epoch 00028: val_acc did not improve\n",
      "Epoch 00029: val_acc did not improve\n",
      "Epoch 00030: val_acc did not improve\n",
      "Epoch 00031: val_acc did not improve\n",
      "Epoch 00032: val_acc improved from 0.79134 to 0.79528, saving model to weights.best.hdf5\n",
      "Epoch 00033: val_acc did not improve\n",
      "Epoch 00034: val_acc did not improve\n",
      "Epoch 00035: val_acc did not improve\n",
      "Epoch 00036: val_acc did not improve\n",
      "Epoch 00037: val_acc did not improve\n",
      "Epoch 00038: val_acc did not improve\n",
      "Epoch 00039: val_acc did not improve\n",
      "Epoch 00040: val_acc did not improve\n",
      "Epoch 00041: val_acc did not improve\n",
      "Epoch 00042: val_acc did not improve\n",
      "Epoch 00043: val_acc did not improve\n",
      "Epoch 00044: val_acc did not improve\n",
      "Epoch 00045: val_acc did not improve\n",
      "Epoch 00046: val_acc did not improve\n",
      "Epoch 00047: val_acc did not improve\n",
      "Epoch 00048: val_acc did not improve\n",
      "Epoch 00049: val_acc did not improve\n",
      "Epoch 00050: val_acc did not improve\n",
      "Epoch 00051: val_acc did not improve\n",
      "Epoch 00052: val_acc did not improve\n",
      "Epoch 00053: val_acc did not improve\n",
      "Epoch 00054: val_acc did not improve\n",
      "Epoch 00055: val_acc did not improve\n",
      "Epoch 00056: val_acc did not improve\n",
      "Epoch 00057: val_acc did not improve\n",
      "Epoch 00058: val_acc did not improve\n",
      "Epoch 00059: val_acc did not improve\n",
      "Epoch 00060: val_acc did not improve\n",
      "Epoch 00061: val_acc did not improve\n",
      "Epoch 00062: val_acc did not improve\n",
      "Epoch 00063: val_acc did not improve\n",
      "Epoch 00064: val_acc did not improve\n",
      "Epoch 00065: val_acc did not improve\n",
      "Epoch 00066: val_acc did not improve\n",
      "Epoch 00067: val_acc did not improve\n",
      "Epoch 00068: val_acc did not improve\n",
      "Epoch 00069: val_acc did not improve\n",
      "Epoch 00070: val_acc did not improve\n",
      "Epoch 00071: val_acc did not improve\n",
      "Epoch 00072: val_acc did not improve\n",
      "Epoch 00073: val_acc did not improve\n",
      "Epoch 00074: val_acc did not improve\n",
      "Epoch 00075: val_acc did not improve\n",
      "Epoch 00076: val_acc did not improve\n",
      "Epoch 00077: val_acc did not improve\n",
      "Epoch 00078: val_acc did not improve\n",
      "Epoch 00079: val_acc did not improve\n",
      "Epoch 00080: val_acc did not improve\n",
      "Epoch 00081: val_acc did not improve\n",
      "Epoch 00082: val_acc did not improve\n",
      "Epoch 00083: val_acc did not improve\n",
      "Epoch 00084: val_acc did not improve\n",
      "Epoch 00085: val_acc did not improve\n",
      "Epoch 00086: val_acc did not improve\n",
      "Epoch 00087: val_acc did not improve\n",
      "Epoch 00088: val_acc did not improve\n",
      "Epoch 00089: val_acc did not improve\n",
      "Epoch 00090: val_acc did not improve\n",
      "Epoch 00091: val_acc did not improve\n",
      "Epoch 00092: val_acc did not improve\n",
      "Epoch 00093: val_acc improved from 0.79528 to 0.79528, saving model to weights.best.hdf5\n",
      "Epoch 00094: val_acc did not improve\n",
      "Epoch 00095: val_acc did not improve\n",
      "Epoch 00096: val_acc did not improve\n",
      "Epoch 00097: val_acc did not improve\n",
      "Epoch 00098: val_acc did not improve\n",
      "Epoch 00099: val_acc did not improve\n",
      "Epoch 00100: val_acc did not improve\n",
      "Epoch 00101: val_acc did not improve\n",
      "Epoch 00102: val_acc did not improve\n",
      "Epoch 00103: val_acc did not improve\n",
      "Epoch 00104: val_acc did not improve\n",
      "Epoch 00105: val_acc did not improve\n",
      "Epoch 00106: val_acc did not improve\n",
      "Epoch 00107: val_acc did not improve\n",
      "Epoch 00108: val_acc did not improve\n",
      "Epoch 00109: val_acc did not improve\n",
      "Epoch 00110: val_acc did not improve\n",
      "Epoch 00111: val_acc did not improve\n",
      "Epoch 00112: val_acc did not improve\n",
      "Epoch 00113: val_acc did not improve\n",
      "Epoch 00114: val_acc did not improve\n",
      "Epoch 00115: val_acc did not improve\n",
      "Epoch 00116: val_acc did not improve\n",
      "Epoch 00117: val_acc did not improve\n",
      "Epoch 00118: val_acc did not improve\n",
      "Epoch 00119: val_acc did not improve\n",
      "Epoch 00120: val_acc did not improve\n",
      "Epoch 00121: val_acc did not improve\n",
      "Epoch 00122: val_acc did not improve\n",
      "Epoch 00123: val_acc did not improve\n",
      "Epoch 00124: val_acc did not improve\n",
      "Epoch 00125: val_acc improved from 0.79528 to 0.79528, saving model to weights.best.hdf5\n",
      "Epoch 00126: val_acc did not improve\n",
      "Epoch 00127: val_acc did not improve\n",
      "Epoch 00128: val_acc did not improve\n",
      "Epoch 00129: val_acc did not improve\n",
      "Epoch 00130: val_acc did not improve\n",
      "Epoch 00131: val_acc did not improve\n",
      "Epoch 00132: val_acc did not improve\n",
      "Epoch 00133: val_acc did not improve\n",
      "Epoch 00134: val_acc did not improve\n",
      "Epoch 00135: val_acc did not improve\n",
      "Epoch 00136: val_acc did not improve\n",
      "Epoch 00137: val_acc did not improve\n",
      "Epoch 00138: val_acc did not improve\n",
      "Epoch 00139: val_acc did not improve\n",
      "Epoch 00140: val_acc did not improve\n",
      "Epoch 00141: val_acc did not improve\n",
      "Epoch 00142: val_acc did not improve\n",
      "Epoch 00143: val_acc did not improve\n",
      "Epoch 00144: val_acc did not improve\n",
      "Epoch 00145: val_acc did not improve\n",
      "Epoch 00146: val_acc did not improve\n",
      "Epoch 00147: val_acc did not improve\n",
      "Epoch 00148: val_acc did not improve\n",
      "Epoch 00149: val_acc did not improve\n"
     ]
    },
    {
     "data": {
      "text/plain": [
       "<keras.callbacks.History at 0x11b4edb50>"
      ]
     },
     "execution_count": 7,
     "metadata": {},
     "output_type": "execute_result"
    }
   ],
   "source": [
    "# checkpoint\n",
    "filepath = \"weights.best.hdf5\"\n",
    "checkpoint = ModelCheckpoint(filepath, monitor='val_acc', verbose=1, save_best_only=True, mode='max')\n",
    "callbacks_list = [checkpoint]\n",
    "\n",
    "# fit the model\n",
    "model.fit(X, Y, validation_split=0.33, nb_epoch=150, batch_size=10, callbacks=callbacks_list, verbose=0)"
   ]
  },
  {
   "cell_type": "code",
   "execution_count": 9,
   "metadata": {
    "collapsed": false
   },
   "outputs": [
    {
     "name": "stdout",
     "output_type": "stream",
     "text": [
      "Created model and loaded weights from file\n"
     ]
    }
   ],
   "source": [
    "# create model\n",
    "load_model = Sequential()\n",
    "load_model.add(Dense(12, input_dim=8, init='uniform', activation='relu'))\n",
    "load_model.add(Dense(8, init='uniform', activation='relu'))\n",
    "load_model.add(Dense(1, init='uniform', activation='sigmoid'))\n",
    "\n",
    "# load weights\n",
    "load_model.load_weights(\"weights.best.hdf5\")\n",
    "\n",
    "# compile model (required to make predictions)\n",
    "load_model.compile(loss='binary_crossentropy', optimizer='adam', metrics=['accuracy'])\n",
    "print(\"Created model and loaded weights from file\")"
   ]
  },
  {
   "cell_type": "code",
   "execution_count": 10,
   "metadata": {
    "collapsed": false
   },
   "outputs": [
    {
     "name": "stdout",
     "output_type": "stream",
     "text": [
      "acc: 80.60%\n"
     ]
    }
   ],
   "source": [
    "# load pima indians dataset\n",
    "dataset = numpy.loadtxt(\"pima-indians-diabetes.csv\", delimiter=\",\")\n",
    "\n",
    "# split into input (X) and output (Y) variables\n",
    "X = dataset[:,0:8]\n",
    "Y = dataset[:,8]\n",
    "\n",
    "# estimate accuracy on whole dataset using loaded weights\n",
    "scores = load_model.evaluate(X, Y, verbose=0)\n",
    "print(\"%s: %.2f%%\" % (load_model.metrics_names[1], scores[1]*100))"
   ]
  },
  {
   "cell_type": "code",
   "execution_count": null,
   "metadata": {
    "collapsed": true
   },
   "outputs": [],
   "source": []
  }
 ],
 "metadata": {
  "kernelspec": {
   "display_name": "Python 2",
   "language": "python",
   "name": "python2"
  },
  "language_info": {
   "codemirror_mode": {
    "name": "ipython",
    "version": 2
   },
   "file_extension": ".py",
   "mimetype": "text/x-python",
   "name": "python",
   "nbconvert_exporter": "python",
   "pygments_lexer": "ipython2",
   "version": "2.7.12"
  }
 },
 "nbformat": 4,
 "nbformat_minor": 0
}
