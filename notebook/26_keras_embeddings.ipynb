{
 "cells": [
  {
   "cell_type": "code",
   "execution_count": 3,
   "metadata": {
    "collapsed": false
   },
   "outputs": [
    {
     "name": "stdout",
     "output_type": "stream",
     "text": [
      "(40,)\n",
      "[  0.   1.   2.   3.   4.   5.   6.   7.   8.   9.  10.  11.  12.  13.  14.\n",
      "  15.  16.  17.  18.  19.  20.  21.  22.  23.  24.  25.  26.  27.  28.  29.\n",
      "  30.  31.  32.  33.  34.  35.  36.  37.  38.  39.]\n",
      "[[  0.   1.   2.   3.]\n",
      " [  4.   5.   6.   7.]\n",
      " [  8.   9.  10.  11.]\n",
      " [ 12.  13.  14.  15.]\n",
      " [ 16.  17.  18.  19.]\n",
      " [ 20.  21.  22.  23.]\n",
      " [ 24.  25.  26.  27.]\n",
      " [ 28.  29.  30.  31.]\n",
      " [ 32.  33.  34.  35.]\n",
      " [ 36.  37.  38.  39.]]\n"
     ]
    }
   ],
   "source": [
    "import numpy as np\n",
    "\n",
    "embedding_size = 4\n",
    "vocab_size = 10\n",
    "\n",
    "embedding = np.arange(embedding_size * vocab_size, dtype='float')\n",
    "print(embedding.shape)\n",
    "print(embedding)\n",
    "\n",
    "embedding = embedding.reshape(vocab_size, embedding_size)\n",
    "print(embedding)"
   ]
  },
  {
   "cell_type": "code",
   "execution_count": 5,
   "metadata": {
    "collapsed": false
   },
   "outputs": [
    {
     "data": {
      "text/plain": [
       "array([ 0.,  0.,  0.,  1.,  0.,  0.,  0.,  0.,  0.,  0.])"
      ]
     },
     "execution_count": 5,
     "metadata": {},
     "output_type": "execute_result"
    }
   ],
   "source": [
    "i = 3\n",
    "onehot = np.zeros(vocab_size)\n",
    "onehot[i] = 1.\n",
    "onehot"
   ]
  },
  {
   "cell_type": "code",
   "execution_count": 6,
   "metadata": {
    "collapsed": false
   },
   "outputs": [
    {
     "name": "stdout",
     "output_type": "stream",
     "text": [
      "[ 12.  13.  14.  15.]\n"
     ]
    }
   ],
   "source": [
    "embedding_vector = np.dot(onehot, embedding)\n",
    "print(embedding_vector)"
   ]
  },
  {
   "cell_type": "code",
   "execution_count": 7,
   "metadata": {
    "collapsed": false
   },
   "outputs": [
    {
     "name": "stdout",
     "output_type": "stream",
     "text": [
      "[ 12.  13.  14.  15.]\n"
     ]
    }
   ],
   "source": [
    "print(embedding[i])"
   ]
  },
  {
   "cell_type": "code",
   "execution_count": 8,
   "metadata": {
    "collapsed": false
   },
   "outputs": [
    {
     "name": "stderr",
     "output_type": "stream",
     "text": [
      "Using TensorFlow backend.\n"
     ]
    }
   ],
   "source": [
    "from tensorflow.contrib import keras\n",
    "from keras.layers import Embedding\n",
    "\n",
    "embedding_layer = Embedding(\n",
    "    output_dim=embedding_size, input_dim=vocab_size,\n",
    "    input_length=1, name='my_embedding')"
   ]
  },
  {
   "cell_type": "code",
   "execution_count": 10,
   "metadata": {
    "collapsed": false
   },
   "outputs": [
    {
     "data": {
      "text/plain": [
       "(None, 1, 4)"
      ]
     },
     "execution_count": 10,
     "metadata": {},
     "output_type": "execute_result"
    }
   ],
   "source": [
    "from keras.layers import Input\n",
    "from keras.models import Model\n",
    "\n",
    "x = Input(shape=[1], name='input')\n",
    "embedding = embedding_layer(x)\n",
    "model = Model(inputs=x, outputs=embedding)\n",
    "model.output_shape"
   ]
  },
  {
   "cell_type": "code",
   "execution_count": 11,
   "metadata": {
    "collapsed": false
   },
   "outputs": [
    {
     "data": {
      "text/plain": [
       "[array([[ 0.01890775,  0.00499418, -0.03474957,  0.02684459],\n",
       "        [ 0.0318494 , -0.04652676, -0.02924601,  0.04009086],\n",
       "        [-0.03589082,  0.0474348 , -0.04485966,  0.00298793],\n",
       "        [-0.02304914,  0.01285596, -0.03610522, -0.00133644],\n",
       "        [-0.04690611, -0.0206648 ,  0.0260491 , -0.01262562],\n",
       "        [ 0.01401315,  0.03188027, -0.02592033, -0.01135837],\n",
       "        [-0.00707678, -0.01920606,  0.01314666,  0.04426006],\n",
       "        [-0.02399683,  0.04837314, -0.03009446, -0.00333629],\n",
       "        [ 0.02805784, -0.01677012, -0.0288386 , -0.00996032],\n",
       "        [ 0.01646114, -0.03790113, -0.01738508, -0.04946321]], dtype=float32)]"
      ]
     },
     "execution_count": 11,
     "metadata": {},
     "output_type": "execute_result"
    }
   ],
   "source": [
    "model.get_weights()"
   ]
  },
  {
   "cell_type": "code",
   "execution_count": 12,
   "metadata": {
    "collapsed": false
   },
   "outputs": [
    {
     "data": {
      "text/plain": [
       "array([[[ 0.01890775,  0.00499418, -0.03474957,  0.02684459]],\n",
       "\n",
       "       [[-0.02304914,  0.01285596, -0.03610522, -0.00133644]]], dtype=float32)"
      ]
     },
     "execution_count": 12,
     "metadata": {},
     "output_type": "execute_result"
    }
   ],
   "source": [
    "model.predict([[0],\n",
    "               [3]])"
   ]
  },
  {
   "cell_type": "code",
   "execution_count": 14,
   "metadata": {
    "collapsed": false
   },
   "outputs": [
    {
     "data": {
      "text/plain": [
       "(None, 4)"
      ]
     },
     "execution_count": 14,
     "metadata": {},
     "output_type": "execute_result"
    }
   ],
   "source": [
    "from keras.layers import Flatten\n",
    "\n",
    "x = Input(shape=[1], name='input')\n",
    "\n",
    "# Add a flatten layer to remove useless \"sequence\" dimension\n",
    "y = Flatten()(embedding_layer(x))\n",
    "\n",
    "model2 = Model(inputs=x, outputs=y)\n",
    "model2.output_shape"
   ]
  },
  {
   "cell_type": "code",
   "execution_count": 15,
   "metadata": {
    "collapsed": false
   },
   "outputs": [
    {
     "data": {
      "text/plain": [
       "array([[ 0.01890775,  0.00499418, -0.03474957,  0.02684459],\n",
       "       [-0.02304914,  0.01285596, -0.03610522, -0.00133644]], dtype=float32)"
      ]
     },
     "execution_count": 15,
     "metadata": {},
     "output_type": "execute_result"
    }
   ],
   "source": [
    "model2.predict([[0],\n",
    "                [3]])"
   ]
  },
  {
   "cell_type": "code",
   "execution_count": null,
   "metadata": {
    "collapsed": true
   },
   "outputs": [],
   "source": []
  }
 ],
 "metadata": {
  "kernelspec": {
   "display_name": "Python 3",
   "language": "python",
   "name": "python3"
  },
  "language_info": {
   "codemirror_mode": {
    "name": "ipython",
    "version": 3
   },
   "file_extension": ".py",
   "mimetype": "text/x-python",
   "name": "python",
   "nbconvert_exporter": "python",
   "pygments_lexer": "ipython3",
   "version": "3.5.3"
  }
 },
 "nbformat": 4,
 "nbformat_minor": 2
}
