{
 "cells": [
  {
   "cell_type": "code",
   "execution_count": 1,
   "metadata": {
    "collapsed": false
   },
   "outputs": [],
   "source": [
    "%matplotlib inline\n",
    "import matplotlib.pyplot as plt\n",
    "import numpy as np\n",
    "import os.path as op\n",
    "\n",
    "from zipfile import ZipFile\n",
    "try:\n",
    "    from urllib.request import urlretrieve\n",
    "except ImportError:  # Python 2 compat\n",
    "    from urllib import urlretrieve\n",
    "\n",
    "\n",
    "ML_100K_URL = \"http://files.grouplens.org/datasets/movielens/ml-100k.zip\"\n",
    "ML_100K_FILENAME = ML_100K_URL.rsplit('/', 1)[1]\n",
    "ML_100K_FOLDER = 'ml-100k'\n",
    "\n",
    "if not op.exists(ML_100K_FILENAME):\n",
    "    print('Downloading %s to %s...' % (ML_100K_URL, ML_100K_FILENAME))\n",
    "    urlretrieve(ML_100K_URL, ML_100K_FILENAME)\n",
    "\n",
    "if not op.exists(ML_100K_FOLDER):\n",
    "    print('Extracting %s to %s...' % (ML_100K_FILENAME, ML_100K_FOLDER))\n",
    "    ZipFile(ML_100K_FILENAME).extractall('.')"
   ]
  },
  {
   "cell_type": "code",
   "execution_count": 2,
   "metadata": {
    "collapsed": false
   },
   "outputs": [
    {
     "data": {
      "text/html": [
       "<div>\n",
       "<style>\n",
       "    .dataframe thead tr:only-child th {\n",
       "        text-align: right;\n",
       "    }\n",
       "\n",
       "    .dataframe thead th {\n",
       "        text-align: left;\n",
       "    }\n",
       "\n",
       "    .dataframe tbody tr th {\n",
       "        vertical-align: top;\n",
       "    }\n",
       "</style>\n",
       "<table border=\"1\" class=\"dataframe\">\n",
       "  <thead>\n",
       "    <tr style=\"text-align: right;\">\n",
       "      <th></th>\n",
       "      <th>user_id</th>\n",
       "      <th>item_id</th>\n",
       "      <th>rating</th>\n",
       "      <th>timestamp</th>\n",
       "    </tr>\n",
       "  </thead>\n",
       "  <tbody>\n",
       "    <tr>\n",
       "      <th>0</th>\n",
       "      <td>196</td>\n",
       "      <td>242</td>\n",
       "      <td>3</td>\n",
       "      <td>881250949</td>\n",
       "    </tr>\n",
       "    <tr>\n",
       "      <th>1</th>\n",
       "      <td>186</td>\n",
       "      <td>302</td>\n",
       "      <td>3</td>\n",
       "      <td>891717742</td>\n",
       "    </tr>\n",
       "    <tr>\n",
       "      <th>2</th>\n",
       "      <td>22</td>\n",
       "      <td>377</td>\n",
       "      <td>1</td>\n",
       "      <td>878887116</td>\n",
       "    </tr>\n",
       "    <tr>\n",
       "      <th>3</th>\n",
       "      <td>244</td>\n",
       "      <td>51</td>\n",
       "      <td>2</td>\n",
       "      <td>880606923</td>\n",
       "    </tr>\n",
       "    <tr>\n",
       "      <th>4</th>\n",
       "      <td>166</td>\n",
       "      <td>346</td>\n",
       "      <td>1</td>\n",
       "      <td>886397596</td>\n",
       "    </tr>\n",
       "  </tbody>\n",
       "</table>\n",
       "</div>"
      ],
      "text/plain": [
       "   user_id  item_id  rating  timestamp\n",
       "0      196      242       3  881250949\n",
       "1      186      302       3  891717742\n",
       "2       22      377       1  878887116\n",
       "3      244       51       2  880606923\n",
       "4      166      346       1  886397596"
      ]
     },
     "execution_count": 2,
     "metadata": {},
     "output_type": "execute_result"
    }
   ],
   "source": [
    "import pandas as pd\n",
    "\n",
    "all_ratings = pd.read_csv(op.join(ML_100K_FOLDER, 'u.data'), sep='\\t',\n",
    "                          names=[\"user_id\", \"item_id\", \"rating\", \"timestamp\"])\n",
    "all_ratings.head()"
   ]
  },
  {
   "cell_type": "code",
   "execution_count": 3,
   "metadata": {
    "collapsed": false
   },
   "outputs": [
    {
     "data": {
      "text/html": [
       "<div>\n",
       "<style>\n",
       "    .dataframe thead tr:only-child th {\n",
       "        text-align: right;\n",
       "    }\n",
       "\n",
       "    .dataframe thead th {\n",
       "        text-align: left;\n",
       "    }\n",
       "\n",
       "    .dataframe tbody tr th {\n",
       "        vertical-align: top;\n",
       "    }\n",
       "</style>\n",
       "<table border=\"1\" class=\"dataframe\">\n",
       "  <thead>\n",
       "    <tr style=\"text-align: right;\">\n",
       "      <th></th>\n",
       "      <th>name</th>\n",
       "      <th>date</th>\n",
       "      <th>genre</th>\n",
       "      <th>url</th>\n",
       "      <th>f0</th>\n",
       "      <th>f1</th>\n",
       "      <th>f2</th>\n",
       "      <th>f3</th>\n",
       "      <th>f4</th>\n",
       "      <th>f5</th>\n",
       "      <th>...</th>\n",
       "      <th>f9</th>\n",
       "      <th>f10</th>\n",
       "      <th>f11</th>\n",
       "      <th>f12</th>\n",
       "      <th>f13</th>\n",
       "      <th>f14</th>\n",
       "      <th>f15</th>\n",
       "      <th>f16</th>\n",
       "      <th>f17</th>\n",
       "      <th>f18</th>\n",
       "    </tr>\n",
       "  </thead>\n",
       "  <tbody>\n",
       "    <tr>\n",
       "      <th>1</th>\n",
       "      <td>Toy Story (1995)</td>\n",
       "      <td>01-Jan-1995</td>\n",
       "      <td>01-Jan-1997</td>\n",
       "      <td>http://us.imdb.com/M/title-exact?Toy%20Story%2...</td>\n",
       "      <td>0</td>\n",
       "      <td>0</td>\n",
       "      <td>0</td>\n",
       "      <td>1</td>\n",
       "      <td>1</td>\n",
       "      <td>1</td>\n",
       "      <td>...</td>\n",
       "      <td>0</td>\n",
       "      <td>0</td>\n",
       "      <td>0</td>\n",
       "      <td>0</td>\n",
       "      <td>0</td>\n",
       "      <td>0</td>\n",
       "      <td>0</td>\n",
       "      <td>0</td>\n",
       "      <td>0</td>\n",
       "      <td>0</td>\n",
       "    </tr>\n",
       "    <tr>\n",
       "      <th>2</th>\n",
       "      <td>GoldenEye (1995)</td>\n",
       "      <td>01-Jan-1995</td>\n",
       "      <td>01-Jan-1997</td>\n",
       "      <td>http://us.imdb.com/M/title-exact?GoldenEye%20(...</td>\n",
       "      <td>0</td>\n",
       "      <td>1</td>\n",
       "      <td>1</td>\n",
       "      <td>0</td>\n",
       "      <td>0</td>\n",
       "      <td>0</td>\n",
       "      <td>...</td>\n",
       "      <td>0</td>\n",
       "      <td>0</td>\n",
       "      <td>0</td>\n",
       "      <td>0</td>\n",
       "      <td>0</td>\n",
       "      <td>0</td>\n",
       "      <td>0</td>\n",
       "      <td>1</td>\n",
       "      <td>0</td>\n",
       "      <td>0</td>\n",
       "    </tr>\n",
       "    <tr>\n",
       "      <th>3</th>\n",
       "      <td>Four Rooms (1995)</td>\n",
       "      <td>01-Jan-1995</td>\n",
       "      <td>01-Jan-1997</td>\n",
       "      <td>http://us.imdb.com/M/title-exact?Four%20Rooms%...</td>\n",
       "      <td>0</td>\n",
       "      <td>0</td>\n",
       "      <td>0</td>\n",
       "      <td>0</td>\n",
       "      <td>0</td>\n",
       "      <td>0</td>\n",
       "      <td>...</td>\n",
       "      <td>0</td>\n",
       "      <td>0</td>\n",
       "      <td>0</td>\n",
       "      <td>0</td>\n",
       "      <td>0</td>\n",
       "      <td>0</td>\n",
       "      <td>0</td>\n",
       "      <td>1</td>\n",
       "      <td>0</td>\n",
       "      <td>0</td>\n",
       "    </tr>\n",
       "    <tr>\n",
       "      <th>4</th>\n",
       "      <td>Get Shorty (1995)</td>\n",
       "      <td>01-Jan-1995</td>\n",
       "      <td>01-Jan-1997</td>\n",
       "      <td>http://us.imdb.com/M/title-exact?Get%20Shorty%...</td>\n",
       "      <td>0</td>\n",
       "      <td>1</td>\n",
       "      <td>0</td>\n",
       "      <td>0</td>\n",
       "      <td>0</td>\n",
       "      <td>1</td>\n",
       "      <td>...</td>\n",
       "      <td>0</td>\n",
       "      <td>0</td>\n",
       "      <td>0</td>\n",
       "      <td>0</td>\n",
       "      <td>0</td>\n",
       "      <td>0</td>\n",
       "      <td>0</td>\n",
       "      <td>0</td>\n",
       "      <td>0</td>\n",
       "      <td>0</td>\n",
       "    </tr>\n",
       "    <tr>\n",
       "      <th>5</th>\n",
       "      <td>Copycat (1995)</td>\n",
       "      <td>01-Jan-1995</td>\n",
       "      <td>01-Jan-1997</td>\n",
       "      <td>http://us.imdb.com/M/title-exact?Copycat%20(1995)</td>\n",
       "      <td>0</td>\n",
       "      <td>0</td>\n",
       "      <td>0</td>\n",
       "      <td>0</td>\n",
       "      <td>0</td>\n",
       "      <td>0</td>\n",
       "      <td>...</td>\n",
       "      <td>0</td>\n",
       "      <td>0</td>\n",
       "      <td>0</td>\n",
       "      <td>0</td>\n",
       "      <td>0</td>\n",
       "      <td>0</td>\n",
       "      <td>0</td>\n",
       "      <td>1</td>\n",
       "      <td>0</td>\n",
       "      <td>0</td>\n",
       "    </tr>\n",
       "  </tbody>\n",
       "</table>\n",
       "<p>5 rows × 23 columns</p>\n",
       "</div>"
      ],
      "text/plain": [
       "                name         date        genre  \\\n",
       "1   Toy Story (1995)  01-Jan-1995  01-Jan-1997   \n",
       "2   GoldenEye (1995)  01-Jan-1995  01-Jan-1997   \n",
       "3  Four Rooms (1995)  01-Jan-1995  01-Jan-1997   \n",
       "4  Get Shorty (1995)  01-Jan-1995  01-Jan-1997   \n",
       "5     Copycat (1995)  01-Jan-1995  01-Jan-1997   \n",
       "\n",
       "                                                 url  f0  f1  f2  f3  f4  f5  \\\n",
       "1  http://us.imdb.com/M/title-exact?Toy%20Story%2...   0   0   0   1   1   1   \n",
       "2  http://us.imdb.com/M/title-exact?GoldenEye%20(...   0   1   1   0   0   0   \n",
       "3  http://us.imdb.com/M/title-exact?Four%20Rooms%...   0   0   0   0   0   0   \n",
       "4  http://us.imdb.com/M/title-exact?Get%20Shorty%...   0   1   0   0   0   1   \n",
       "5  http://us.imdb.com/M/title-exact?Copycat%20(1995)   0   0   0   0   0   0   \n",
       "\n",
       "  ...   f9  f10  f11  f12  f13  f14  f15  f16  f17  f18  \n",
       "1 ...    0    0    0    0    0    0    0    0    0    0  \n",
       "2 ...    0    0    0    0    0    0    0    1    0    0  \n",
       "3 ...    0    0    0    0    0    0    0    1    0    0  \n",
       "4 ...    0    0    0    0    0    0    0    0    0    0  \n",
       "5 ...    0    0    0    0    0    0    0    1    0    0  \n",
       "\n",
       "[5 rows x 23 columns]"
      ]
     },
     "execution_count": 3,
     "metadata": {},
     "output_type": "execute_result"
    }
   ],
   "source": [
    "names = [\"name\", \"date\", \"genre\", \"url\"]\n",
    "names += [\"f\" + str(x) for x in range(19)]  # unused feature names\n",
    "\n",
    "items = pd.read_csv(op.join(ML_100K_FOLDER, 'u.item'), sep='|', encoding='latin-1',\n",
    "                    names=names)\n",
    "# fix a missing value\n",
    "items.fillna(value=\"01-Jan-1997\", inplace=True)\n",
    "items.head()"
   ]
  },
  {
   "cell_type": "code",
   "execution_count": 4,
   "metadata": {
    "collapsed": false
   },
   "outputs": [
    {
     "data": {
      "text/plain": [
       "count    100000.000000\n",
       "mean          3.529860\n",
       "std           1.125674\n",
       "min           1.000000\n",
       "25%           3.000000\n",
       "50%           4.000000\n",
       "75%           4.000000\n",
       "max           5.000000\n",
       "Name: rating, dtype: float64"
      ]
     },
     "execution_count": 4,
     "metadata": {},
     "output_type": "execute_result"
    }
   ],
   "source": [
    "all_ratings['rating'].describe()"
   ]
  },
  {
   "cell_type": "code",
   "execution_count": 5,
   "metadata": {
    "collapsed": false
   },
   "outputs": [
    {
     "data": {
      "text/plain": [
       "943"
      ]
     },
     "execution_count": 5,
     "metadata": {},
     "output_type": "execute_result"
    }
   ],
   "source": [
    "max_user_id = all_ratings['user_id'].max()\n",
    "max_user_id"
   ]
  },
  {
   "cell_type": "code",
   "execution_count": 6,
   "metadata": {
    "collapsed": false
   },
   "outputs": [
    {
     "data": {
      "text/plain": [
       "1682"
      ]
     },
     "execution_count": 6,
     "metadata": {},
     "output_type": "execute_result"
    }
   ],
   "source": [
    "max_item_id = all_ratings['item_id'].max()\n",
    "max_item_id"
   ]
  },
  {
   "cell_type": "code",
   "execution_count": 7,
   "metadata": {
    "collapsed": false
   },
   "outputs": [
    {
     "name": "stdout",
     "output_type": "stream",
     "text": [
      "10382     70\n",
      "73171    215\n",
      "30938    488\n",
      "99310    916\n",
      "58959    292\n",
      "Name: user_id, dtype: int64\n",
      "10382    298\n",
      "73171    172\n",
      "30938    210\n",
      "99310    156\n",
      "58959    197\n",
      "Name: item_id, dtype: int64\n",
      "10382    5\n",
      "73171    4\n",
      "30938    4\n",
      "99310    5\n",
      "58959    5\n",
      "Name: rating, dtype: int64\n",
      "80000\n",
      "20000\n"
     ]
    }
   ],
   "source": [
    "from sklearn.model_selection import train_test_split\n",
    "\n",
    "ratings_train, ratings_test = train_test_split(all_ratings, test_size=0.2, random_state=0)\n",
    "\n",
    "user_id_train = ratings_train['user_id']\n",
    "item_id_train = ratings_train['item_id']\n",
    "rating_train = ratings_train['rating']\n",
    "\n",
    "user_id_test = ratings_test['user_id']\n",
    "item_id_test = ratings_test['item_id']\n",
    "rating_test = ratings_test['rating']\n",
    "\n",
    "print(user_id_train.head())\n",
    "print(item_id_train.head())\n",
    "print(rating_train.head())\n",
    "\n",
    "print(len(ratings_train))\n",
    "print(len(ratings_test))"
   ]
  },
  {
   "cell_type": "code",
   "execution_count": 8,
   "metadata": {
    "collapsed": false
   },
   "outputs": [
    {
     "name": "stderr",
     "output_type": "stream",
     "text": [
      "Using TensorFlow backend.\n"
     ]
    }
   ],
   "source": [
    "from keras.layers import Input, Embedding, Flatten, merge, Dense, Dropout, Lambda\n",
    "from keras.models import Model\n",
    "import keras.backend as K"
   ]
  },
  {
   "cell_type": "code",
   "execution_count": 9,
   "metadata": {
    "collapsed": false
   },
   "outputs": [
    {
     "name": "stderr",
     "output_type": "stream",
     "text": [
      "/Users/taemyung/anaconda/envs/py35/lib/python3.5/site-packages/ipykernel/__main__.py:18: UserWarning: The `merge` function is deprecated and will be removed after 08/2017. Use instead layers from `keras.layers.merge`, e.g. `add`, `concatenate`, etc.\n",
      "/Users/taemyung/anaconda/envs/py35/lib/python3.5/site-packages/keras/legacy/layers.py:458: UserWarning: The `Merge` layer is deprecated and will be removed after 08/2017. Use instead layers from `keras.layers.merge`, e.g. `add`, `concatenate`, etc.\n",
      "  name=name)\n"
     ]
    }
   ],
   "source": [
    "# For each sample we input the integer identifiers\n",
    "# of a single user and a single item\n",
    "user_id_input = Input(shape=[1], name='user')\n",
    "item_id_input = Input(shape=[1], name='item')\n",
    "\n",
    "embedding_size = 30\n",
    "user_embedding = Embedding(output_dim=embedding_size, input_dim=max_user_id + 1,\n",
    "                           input_length=1, name='user_embedding')(user_id_input)\n",
    "item_embedding = Embedding(output_dim=embedding_size, input_dim=max_item_id + 1,\n",
    "                           input_length=1, name='item_embedding')(item_id_input)\n",
    "\n",
    "# reshape from shape: (batch_size, input_length, embedding_size)\n",
    "# to shape: (batch_size, input_length * embedding_size) which is\n",
    "# equal to shape: (batch_size, embedding_size)\n",
    "user_vecs = Flatten()(user_embedding)\n",
    "item_vecs = Flatten()(item_embedding)\n",
    "\n",
    "y = merge([user_vecs, item_vecs], mode='dot', output_shape=(1,))\n",
    "\n",
    "model = Model(inputs=[user_id_input, item_id_input], outputs=y)\n",
    "model.compile(optimizer='adam', loss='mae')"
   ]
  },
  {
   "cell_type": "code",
   "execution_count": 10,
   "metadata": {
    "collapsed": false
   },
   "outputs": [
    {
     "name": "stdout",
     "output_type": "stream",
     "text": [
      "(80000, 1)\n",
      "(80000,)\n"
     ]
    }
   ],
   "source": [
    "# Useful for debugging the output shape of model\n",
    "initial_train_preds = model.predict([user_id_train, item_id_train])\n",
    "print(initial_train_preds.shape)\n",
    "initial_train_preds = initial_train_preds.reshape(80000)\n",
    "print(initial_train_preds.shape)"
   ]
  },
  {
   "cell_type": "code",
   "execution_count": 11,
   "metadata": {
    "collapsed": false
   },
   "outputs": [
    {
     "name": "stdout",
     "output_type": "stream",
     "text": [
      "Random init MSE: 13.732\n",
      "Random init MAE: 3.531\n"
     ]
    }
   ],
   "source": [
    "# %load solutions/compute_errors.py\n",
    "squared_differences = np.square(initial_train_preds - rating_train.values)\n",
    "absolute_differences = np.abs(initial_train_preds - rating_train.values)\n",
    "\n",
    "print(\"Random init MSE: %0.3f\" % np.mean(squared_differences))\n",
    "print(\"Random init MAE: %0.3f\" % np.mean(absolute_differences))\n",
    "\n",
    "# You may also use sklearn metrics to do so with less numpy engineering \n",
    "#from sklearn.metrics import mean_squared_error, mean_absolute_error\n",
    "#\n",
    "#print(\"Random init MSE: %0.3f\" % mean_squared_error(initial_train_preds, rating_train))\n",
    "#print(\"Random init MAE: %0.3f\" % mean_absolute_error(initial_train_preds, rating_train))"
   ]
  },
  {
   "cell_type": "code",
   "execution_count": 12,
   "metadata": {
    "collapsed": false
   },
   "outputs": [
    {
     "name": "stdout",
     "output_type": "stream",
     "text": [
      "Train on 72000 samples, validate on 8000 samples\n",
      "Epoch 1/6\n",
      "1s - loss: 2.9100 - val_loss: 1.3213\n",
      "Epoch 2/6\n",
      "1s - loss: 0.9640 - val_loss: 0.8354\n",
      "Epoch 3/6\n",
      "1s - loss: 0.7801 - val_loss: 0.7853\n",
      "Epoch 4/6\n",
      "1s - loss: 0.7473 - val_loss: 0.7747\n",
      "Epoch 5/6\n",
      "1s - loss: 0.7348 - val_loss: 0.7673\n",
      "Epoch 6/6\n",
      "1s - loss: 0.7268 - val_loss: 0.7631\n",
      "CPU times: user 16.1 s, sys: 6.08 s, total: 22.2 s\n",
      "Wall time: 11.6 s\n"
     ]
    }
   ],
   "source": [
    "%%time\n",
    "\n",
    "# Training the model\n",
    "history = model.fit([user_id_train, item_id_train], rating_train,\n",
    "                    batch_size=64, epochs=6, validation_split=0.1,\n",
    "                    shuffle=True, verbose=2)"
   ]
  },
  {
   "cell_type": "code",
   "execution_count": 13,
   "metadata": {
    "collapsed": false
   },
   "outputs": [
    {
     "data": {
      "image/png": "[encoded data removed]",
      "text/plain": [
       "<matplotlib.figure.Figure at 0x11fa1d1d0>"
      ]
     },
     "metadata": {},
     "output_type": "display_data"
    }
   ],
   "source": [
    "plt.plot(history.history['loss'], label='train')\n",
    "plt.plot(history.history['val_loss'], label='validation')\n",
    "plt.ylim(0, 2)\n",
    "plt.legend(loc='best')\n",
    "plt.title('Loss');"
   ]
  },
  {
   "cell_type": "code",
   "execution_count": 14,
   "metadata": {
    "collapsed": false
   },
   "outputs": [
    {
     "name": "stdout",
     "output_type": "stream",
     "text": [
      "Final test MSE: 0.954\n",
      "Final test MAE: 0.752\n"
     ]
    }
   ],
   "source": [
    "from sklearn.metrics import mean_squared_error\n",
    "from sklearn.metrics import mean_absolute_error\n",
    "\n",
    "test_preds = model.predict([user_id_test, item_id_test])\n",
    "print(\"Final test MSE: %0.3f\" % mean_squared_error(test_preds, rating_test))\n",
    "print(\"Final test MAE: %0.3f\" % mean_absolute_error(test_preds, rating_test))"
   ]
  },
  {
   "cell_type": "code",
   "execution_count": 15,
   "metadata": {
    "collapsed": false
   },
   "outputs": [
    {
     "name": "stdout",
     "output_type": "stream",
     "text": [
      "Final train MSE: 0.867\n",
      "Final train MAE: 0.709\n"
     ]
    }
   ],
   "source": [
    "train_preds = model.predict([user_id_train, item_id_train])\n",
    "print(\"Final train MSE: %0.3f\" % mean_squared_error(train_preds, rating_train))\n",
    "print(\"Final train MAE: %0.3f\" % mean_absolute_error(train_preds, rating_train))"
   ]
  },
  {
   "cell_type": "code",
   "execution_count": 16,
   "metadata": {
    "collapsed": false
   },
   "outputs": [
    {
     "name": "stderr",
     "output_type": "stream",
     "text": [
      "/Users/taemyung/anaconda/envs/py35/lib/python3.5/site-packages/ipykernel/__main__.py:19: UserWarning: The `merge` function is deprecated and will be removed after 08/2017. Use instead layers from `keras.layers.merge`, e.g. `add`, `concatenate`, etc.\n",
      "/Users/taemyung/anaconda/envs/py35/lib/python3.5/site-packages/keras/legacy/layers.py:458: UserWarning: The `Merge` layer is deprecated and will be removed after 08/2017. Use instead layers from `keras.layers.merge`, e.g. `add`, `concatenate`, etc.\n",
      "  name=name)\n"
     ]
    }
   ],
   "source": [
    "# %load solutions/deep_explicit_feedback_recsys.py\n",
    "# For each sample we input the integer identifiers\n",
    "# of a single user and a single item\n",
    "user_id_input = Input(shape=[1], name='user')\n",
    "item_id_input = Input(shape=[1], name='item')\n",
    "\n",
    "embedding_size = 30\n",
    "user_embedding = Embedding(output_dim=embedding_size, input_dim=max_user_id + 1,\n",
    "                           input_length=1, name='user_embedding')(user_id_input)\n",
    "item_embedding = Embedding(output_dim=embedding_size, input_dim=max_item_id + 1,\n",
    "                           input_length=1, name='item_embedding')(item_id_input)\n",
    "\n",
    "# reshape from shape: (batch_size, input_length, embedding_size)\n",
    "# to shape: (batch_size, input_length * embedding_size) which is\n",
    "# equal to shape: (batch_size, embedding_size)\n",
    "user_vecs = Flatten()(user_embedding)\n",
    "item_vecs = Flatten()(item_embedding)\n",
    "\n",
    "input_vecs = merge([user_vecs, item_vecs], mode='concat')\n",
    "## Error 1: Dropout was too high, preventing any training\n",
    "input_vecs = Dropout(0.5)(input_vecs)\n",
    "\n",
    "x = Dense(64, activation='relu')(input_vecs)\n",
    "\n",
    "## Error 2: output dimension was 2 where we predict only 1-d rating\n",
    "## Error 3: tanh activation squashes the outputs between -1 and 1\n",
    "## when we want to predict values between 1 and 5\n",
    "y = Dense(1)(x)\n",
    "\n",
    "model = Model(inputs=[user_id_input, item_id_input], outputs=y)\n",
    "## Error 4: A binary crossentropy loss is only useful for binary\n",
    "## classification, while we are in regression (use mse or mae)\n",
    "model.compile(optimizer='adam', loss='mae')\n",
    "\n",
    "initial_train_preds = model.predict([user_id_train, item_id_train])\n",
    "initial_train_preds = initial_train_preds.reshape(80000)"
   ]
  },
  {
   "cell_type": "code",
   "execution_count": 17,
   "metadata": {
    "collapsed": false
   },
   "outputs": [
    {
     "name": "stdout",
     "output_type": "stream",
     "text": [
      "Train on 72000 samples, validate on 8000 samples\n",
      "Epoch 1/5\n",
      "2s - loss: 1.0049 - val_loss: 0.7702\n",
      "Epoch 2/5\n",
      "2s - loss: 0.7544 - val_loss: 0.7556\n",
      "Epoch 3/5\n",
      "2s - loss: 0.7402 - val_loss: 0.7519\n",
      "Epoch 4/5\n",
      "2s - loss: 0.7310 - val_loss: 0.7468\n",
      "Epoch 5/5\n",
      "2s - loss: 0.7251 - val_loss: 0.7461\n",
      "CPU times: user 19.6 s, sys: 9.24 s, total: 28.8 s\n",
      "Wall time: 14.1 s\n"
     ]
    }
   ],
   "source": [
    "%%time\n",
    "history = model.fit([user_id_train, item_id_train], rating_train,\n",
    "                    batch_size=64, epochs=5, validation_split=0.1,\n",
    "                    shuffle=True, verbose=2)"
   ]
  },
  {
   "cell_type": "code",
   "execution_count": 18,
   "metadata": {
    "collapsed": false
   },
   "outputs": [
    {
     "data": {
      "image/png": "[encoded data removed]",
      "text/plain": [
       "<matplotlib.figure.Figure at 0x1235ed1d0>"
      ]
     },
     "metadata": {},
     "output_type": "display_data"
    }
   ],
   "source": [
    "plt.plot(history.history['loss'], label='train')\n",
    "plt.plot(history.history['val_loss'], label='validation')\n",
    "plt.ylim(0, 2)\n",
    "plt.legend(loc='best')\n",
    "plt.title('Loss');"
   ]
  },
  {
   "cell_type": "code",
   "execution_count": 19,
   "metadata": {
    "collapsed": false
   },
   "outputs": [
    {
     "name": "stdout",
     "output_type": "stream",
     "text": [
      "Final test MSE: 0.922\n",
      "Final test MAE: 0.729\n"
     ]
    }
   ],
   "source": [
    "test_preds = model.predict([user_id_test, item_id_test])\n",
    "print(\"Final test MSE: %0.3f\" % mean_squared_error(test_preds, rating_test))\n",
    "print(\"Final test MAE: %0.3f\" % mean_absolute_error(test_preds, rating_test))"
   ]
  },
  {
   "cell_type": "code",
   "execution_count": 20,
   "metadata": {
    "collapsed": false
   },
   "outputs": [
    {
     "name": "stdout",
     "output_type": "stream",
     "text": [
      "Final train MSE: 0.863\n",
      "Final train MAE: 0.699\n"
     ]
    }
   ],
   "source": [
    "train_preds = model.predict([user_id_train, item_id_train])\n",
    "print(\"Final train MSE: %0.3f\" % mean_squared_error(train_preds, rating_train))\n",
    "print(\"Final train MAE: %0.3f\" % mean_absolute_error(train_preds, rating_train))"
   ]
  },
  {
   "cell_type": "code",
   "execution_count": 21,
   "metadata": {
    "collapsed": false
   },
   "outputs": [
    {
     "data": {
      "text/plain": [
       "[(944, 30), (1683, 30), (60, 64), (64,), (64, 1), (1,)]"
      ]
     },
     "execution_count": 21,
     "metadata": {},
     "output_type": "execute_result"
    }
   ],
   "source": [
    "# weights and shape\n",
    "weights = model.get_weights()\n",
    "[w.shape for w in weights]"
   ]
  },
  {
   "cell_type": "code",
   "execution_count": 22,
   "metadata": {
    "collapsed": false
   },
   "outputs": [
    {
     "name": "stdout",
     "output_type": "stream",
     "text": [
      "____________________________________________________________________________________________________\n",
      "Layer (type)                     Output Shape          Param #     Connected to                     \n",
      "====================================================================================================\n",
      "user (InputLayer)                (None, 1)             0                                            \n",
      "____________________________________________________________________________________________________\n",
      "item (InputLayer)                (None, 1)             0                                            \n",
      "____________________________________________________________________________________________________\n",
      "user_embedding (Embedding)       (None, 1, 30)         28320       user[0][0]                       \n",
      "____________________________________________________________________________________________________\n",
      "item_embedding (Embedding)       (None, 1, 30)         50490       item[0][0]                       \n",
      "____________________________________________________________________________________________________\n",
      "flatten_3 (Flatten)              (None, 30)            0           user_embedding[0][0]             \n",
      "____________________________________________________________________________________________________\n",
      "flatten_4 (Flatten)              (None, 30)            0           item_embedding[0][0]             \n",
      "____________________________________________________________________________________________________\n",
      "merge_2 (Merge)                  (None, 60)            0           flatten_3[0][0]                  \n",
      "                                                                   flatten_4[0][0]                  \n",
      "____________________________________________________________________________________________________\n",
      "dropout_1 (Dropout)              (None, 60)            0           merge_2[0][0]                    \n",
      "____________________________________________________________________________________________________\n",
      "dense_1 (Dense)                  (None, 64)            3904        dropout_1[0][0]                  \n",
      "____________________________________________________________________________________________________\n",
      "dense_2 (Dense)                  (None, 1)             65          dense_1[0][0]                    \n",
      "====================================================================================================\n",
      "Total params: 82,779\n",
      "Trainable params: 82,779\n",
      "Non-trainable params: 0\n",
      "____________________________________________________________________________________________________\n"
     ]
    }
   ],
   "source": [
    "# Solution: \n",
    "model.summary()"
   ]
  },
  {
   "cell_type": "code",
   "execution_count": 27,
   "metadata": {
    "collapsed": false
   },
   "outputs": [
    {
     "name": "stdout",
     "output_type": "stream",
     "text": [
      "First item name from metadata: Toy Story (1995)\n",
      "Embedding vector for the first item:\n",
      "[ 0.05704581  0.10213879  0.05319335  0.03381741  0.05603975  0.09344071\n",
      " -0.05852066  0.06633111 -0.12683989 -0.01254809  0.0540465  -0.10901344\n",
      " -0.06670292  0.01903934  0.03089609 -0.01595022 -0.00185477 -0.09158172\n",
      " -0.05167323  0.04600444  0.04917791  0.00477674 -0.01666384 -0.12299906\n",
      "  0.0637567   0.07758327 -0.01607279  0.05637432  0.02931819 -0.11479018]\n",
      "shape: (30,)\n"
     ]
    }
   ],
   "source": [
    "user_embeddings = weights[0]\n",
    "item_embeddings = weights[1]\n",
    "print(\"First item name from metadata:\", items[\"name\"][1])\n",
    "print(\"Embedding vector for the first item:\")\n",
    "print(item_embeddings[1])\n",
    "print(\"shape:\", item_embeddings[1].shape)"
   ]
  },
  {
   "cell_type": "code",
   "execution_count": 28,
   "metadata": {
    "collapsed": true
   },
   "outputs": [],
   "source": [
    "# %load solutions/similarity.py\n",
    "EPSILON = 1e-07\n",
    "\n",
    "def cosine(x, y):\n",
    "    dot_pdt = np.dot(x, y.T)\n",
    "    norms = np.linalg.norm(x) * np.linalg.norm(y)\n",
    "    return dot_pdt / (norms + EPSILON)\n",
    "\n",
    "# Computes cosine similarities between x and all item embeddings\n",
    "def cosine_similarities(x):\n",
    "    dot_pdts = np.dot(item_embeddings, x)\n",
    "    norms = np.linalg.norm(x) * np.linalg.norm(item_embeddings, axis=1)\n",
    "    return dot_pdts / (norms + EPSILON)\n",
    "\n",
    "# Computes euclidean distances between x and all item embeddings\n",
    "def euclidean_distances(x):\n",
    "    return np.linalg.norm(item_embeddings - x, axis=1)\n",
    "\n",
    "# Computes top_n most similar items to an idx, \n",
    "def most_similar(idx, top_n=10, mode='euclidean'):\n",
    "    sorted_indexes=0\n",
    "    if mode=='euclidean':\n",
    "        dists = euclidean_distances(item_embeddings[idx])\n",
    "        sorted_indexes = np.argsort(dists)\n",
    "        idxs = sorted_indexes[0:top_n]\n",
    "        return list(zip(items[\"name\"][idxs], dists[idxs]))\n",
    "    else:\n",
    "        sims = cosine_similarities(item_embeddings[idx])\n",
    "        # [::-1] makes it possible to reverse the order of a numpy\n",
    "        # array, this is required because most similar items have\n",
    "        # a larger cosine similarity value\n",
    "        sorted_indexes = np.argsort(sims)[::-1]\n",
    "        idxs = sorted_indexes[0:top_n]\n",
    "        return list(zip(items[\"name\"][idxs], sims[idxs]))"
   ]
  },
  {
   "cell_type": "code",
   "execution_count": 30,
   "metadata": {
    "collapsed": false
   },
   "outputs": [
    {
     "name": "stdout",
     "output_type": "stream",
     "text": [
      "cosine of item 1 and item 1: 0.999999248172\n",
      "(1683,)\n",
      "[ 0.          0.4386771   0.5187782   0.37811884]\n",
      "\n",
      "Items closest to 'Return of the Jedi':\n",
      "Return of the Jedi (1983) 0.999999\n",
      "One Flew Over the Cuckoo's Nest (1975) 0.91527\n",
      "Raise the Red Lantern (1991) 0.907978\n",
      "Monty Python and the Holy Grail (1974) 0.905448\n",
      "Star Wars (1977) 0.904795\n",
      "Schindler's List (1993) 0.901752\n",
      "Dr. Strangelove or: How I Learned to Stop Worrying and Love the Bomb (1963) 0.899058\n",
      "Wizard of Oz, The (1939) 0.895673\n",
      "Titanic (1997) 0.89524\n",
      "Good Will Hunting (1997) 0.887459\n"
     ]
    }
   ],
   "source": [
    "# sanity checks:\n",
    "print(\"cosine of item 1 and item 1: \"\n",
    "      + str(cosine(item_embeddings[1], item_embeddings[1])))\n",
    "euc_dists = euclidean_distances(item_embeddings[1])\n",
    "print(euc_dists.shape)\n",
    "print(euc_dists[1:5])\n",
    "print()\n",
    "\n",
    "# Test on movie 181: Return of the Jedi\n",
    "print(\"Items closest to 'Return of the Jedi':\")\n",
    "for title, dist in most_similar(181, mode=\"cosine\"):\n",
    "    print(title, dist)\n",
    "\n",
    "\n",
    "# We observe that the embedding is poor at representing similarities\n",
    "# between movies, as most distance/similarities are very small/big \n",
    "# One may notice a few clusters though\n",
    "# it's interesting to plot the following distributions\n",
    "# plt.hist(euc_dists)\n",
    "\n",
    "# The reason for that is that the number of ratings is low and the embedding\n",
    "# does not automatically capture semantic relationships in that context. \n",
    "# Better representations arise with higher number of ratings, and less overfitting models"
   ]
  },
  {
   "cell_type": "code",
   "execution_count": 31,
   "metadata": {
    "collapsed": true
   },
   "outputs": [],
   "source": [
    "from sklearn.manifold import TSNE\n",
    "\n",
    "item_tsne = TSNE(perplexity=30).fit_transform(item_embeddings)"
   ]
  },
  {
   "cell_type": "code",
   "execution_count": 32,
   "metadata": {
    "collapsed": false
   },
   "outputs": [
    {
     "data": {
      "image/png": "[encoded data removed]",
      "text/plain": [
       "<matplotlib.figure.Figure at 0x123df8080>"
      ]
     },
     "metadata": {},
     "output_type": "display_data"
    }
   ],
   "source": [
    "import matplotlib.pyplot as plt\n",
    "\n",
    "plt.figure(figsize=(10, 10))\n",
    "plt.scatter(item_tsne[:, 0], item_tsne[:, 1]);\n",
    "plt.xticks(()); plt.yticks(());\n",
    "plt.show()"
   ]
  },
  {
   "cell_type": "code",
   "execution_count": 49,
   "metadata": {
    "collapsed": false
   },
   "outputs": [
    {
     "name": "stdout",
     "output_type": "stream",
     "text": [
      "[1995, 1995, 1995, 1995, 1995]\n",
      "1998 1922\n",
      "item_id\n",
      "298    0.534131\n",
      "172   -0.659161\n",
      "210   -0.027418\n",
      "156    0.183163\n",
      "197   -1.571677\n",
      "Name: scaled_date, dtype: float64\n"
     ]
    },
    {
     "data": {
      "text/plain": [
       "(80000, 20000)"
      ]
     },
     "execution_count": 49,
     "metadata": {},
     "output_type": "execute_result"
    }
   ],
   "source": [
    "# transform the date (string) into an int representing the release year\n",
    "parsed_dates = [int(film_date[-4:])\n",
    "                for film_date in items[\"date\"].tolist()]\n",
    "print(parsed_dates[:5])\n",
    "\n",
    "items['parsed_date'] = pd.Series(parsed_dates, index=items.index)\n",
    "max_date = max(items['parsed_date'])\n",
    "min_date = min(items['parsed_date'])\n",
    "print(max_date, min_date)\n",
    "\n",
    "from sklearn.preprocessing import scale\n",
    "\n",
    "items['scaled_date'] = scale(items['parsed_date'].astype('float64'))\n",
    "item_meta_train = items[\"scaled_date\"][item_id_train]\n",
    "item_meta_test = items[\"scaled_date\"][item_id_test]\n",
    "print(item_meta_train.head())\n",
    "\n",
    "len(item_meta_train), len(item_meta_test)"
   ]
  },
  {
   "cell_type": "code",
   "execution_count": 50,
   "metadata": {
    "collapsed": false
   },
   "outputs": [
    {
     "data": {
      "text/plain": [
       "count    1.682000e+03\n",
       "mean    -2.415758e-15\n",
       "std      1.000297e+00\n",
       "min     -4.730390e+00\n",
       "25%      2.533563e-01\n",
       "50%      3.937435e-01\n",
       "75%      4.639372e-01\n",
       "max      6.043244e-01\n",
       "Name: scaled_date, dtype: float64"
      ]
     },
     "execution_count": 50,
     "metadata": {},
     "output_type": "execute_result"
    }
   ],
   "source": [
    "items[\"scaled_date\"].describe()"
   ]
  },
  {
   "cell_type": "code",
   "execution_count": 51,
   "metadata": {
    "collapsed": false
   },
   "outputs": [
    {
     "name": "stderr",
     "output_type": "stream",
     "text": [
      "/Users/taemyung/anaconda/envs/py35/lib/python3.5/site-packages/ipykernel/__main__.py:20: UserWarning: The `merge` function is deprecated and will be removed after 08/2017. Use instead layers from `keras.layers.merge`, e.g. `add`, `concatenate`, etc.\n",
      "/Users/taemyung/anaconda/envs/py35/lib/python3.5/site-packages/keras/legacy/layers.py:458: UserWarning: The `Merge` layer is deprecated and will be removed after 08/2017. Use instead layers from `keras.layers.merge`, e.g. `add`, `concatenate`, etc.\n",
      "  name=name)\n"
     ]
    }
   ],
   "source": [
    "# For each sample we input the integer identifiers\n",
    "# of a single user and a single item\n",
    "user_id_input = Input(shape=[1], name='user')\n",
    "item_id_input = Input(shape=[1], name='item')\n",
    "meta_input = Input(shape=[1], name='meta_item')\n",
    "\n",
    "embedding_size = 32\n",
    "user_embedding = Embedding(output_dim=embedding_size, input_dim=max_user_id + 1,\n",
    "                           input_length=1, name='user_embedding')(user_id_input)\n",
    "item_embedding = Embedding(output_dim=embedding_size, input_dim=max_item_id + 1,\n",
    "                           input_length=1, name='item_embedding')(item_id_input)\n",
    "\n",
    "\n",
    "# reshape from shape: (batch_size, input_length, embedding_size)\n",
    "# to shape: (batch_size, input_length * embedding_size) which is\n",
    "# equal to shape: (batch_size, embedding_size)\n",
    "user_vecs = Flatten()(user_embedding)\n",
    "item_vecs = Flatten()(item_embedding)\n",
    "\n",
    "input_vecs = merge([user_vecs, item_vecs, meta_input], mode='concat')\n",
    "\n",
    "x = Dense(64, activation='relu')(input_vecs)\n",
    "x = Dropout(0.5)(x)\n",
    "x = Dense(32, activation='relu')(x)\n",
    "y = Dense(1)(x)\n",
    "\n",
    "model = Model(inputs=[user_id_input, item_id_input, meta_input], outputs=y)\n",
    "model.compile(optimizer='adam', loss='mae')\n",
    "\n",
    "initial_train_preds = model.predict([user_id_train, item_id_train, item_meta_train])\n",
    "initial_train_preds = initial_train_preds.reshape(80000)"
   ]
  },
  {
   "cell_type": "code",
   "execution_count": 52,
   "metadata": {
    "collapsed": false
   },
   "outputs": [
    {
     "name": "stdout",
     "output_type": "stream",
     "text": [
      "Train on 72000 samples, validate on 8000 samples\n",
      "Epoch 1/15\n",
      "3s - loss: 0.9857 - val_loss: 0.7817\n",
      "Epoch 2/15\n",
      "2s - loss: 0.7654 - val_loss: 0.7592\n",
      "Epoch 3/15\n",
      "3s - loss: 0.7386 - val_loss: 0.7462\n",
      "Epoch 4/15\n",
      "2s - loss: 0.7193 - val_loss: 0.7397\n",
      "Epoch 5/15\n",
      "3s - loss: 0.7008 - val_loss: 0.7351\n",
      "Epoch 6/15\n",
      "3s - loss: 0.6856 - val_loss: 0.7297\n",
      "Epoch 7/15\n",
      "3s - loss: 0.6754 - val_loss: 0.7306\n",
      "Epoch 8/15\n",
      "3s - loss: 0.6684 - val_loss: 0.7336\n",
      "Epoch 9/15\n",
      "3s - loss: 0.6598 - val_loss: 0.7289\n",
      "Epoch 10/15\n",
      "2s - loss: 0.6546 - val_loss: 0.7291\n",
      "Epoch 11/15\n",
      "2s - loss: 0.6485 - val_loss: 0.7310\n",
      "Epoch 12/15\n",
      "2s - loss: 0.6427 - val_loss: 0.7278\n",
      "Epoch 13/15\n",
      "2s - loss: 0.6380 - val_loss: 0.7284\n",
      "Epoch 14/15\n",
      "2s - loss: 0.6335 - val_loss: 0.7304\n",
      "Epoch 15/15\n",
      "2s - loss: 0.6302 - val_loss: 0.7321\n",
      "CPU times: user 1min 4s, sys: 31.8 s, total: 1min 36s\n",
      "Wall time: 46.3 s\n"
     ]
    }
   ],
   "source": [
    "%%time\n",
    "history = model.fit([user_id_train, item_id_train, item_meta_train], rating_train,\n",
    "                    batch_size=64, epochs=15, validation_split=0.1,\n",
    "                    shuffle=True, verbose=2)"
   ]
  },
  {
   "cell_type": "code",
   "execution_count": 53,
   "metadata": {
    "collapsed": false
   },
   "outputs": [
    {
     "name": "stdout",
     "output_type": "stream",
     "text": [
      "Final test Loss: 0.958\n",
      "Final test Loss: 0.719\n"
     ]
    }
   ],
   "source": [
    "test_preds = model.predict([user_id_test, item_id_test, item_meta_test])\n",
    "print(\"Final test Loss: %0.3f\" % mean_squared_error(test_preds, rating_test))\n",
    "print(\"Final test Loss: %0.3f\" % mean_absolute_error(test_preds, rating_test))"
   ]
  },
  {
   "cell_type": "code",
   "execution_count": 54,
   "metadata": {
    "collapsed": true
   },
   "outputs": [],
   "source": [
    "def recommend(user_id, top_n=10):\n",
    "    item_ids = range(1, max_item_id)\n",
    "    seen_movies = list(all_ratings[all_ratings[\"user_id\"]==user_id][\"item_id\"])\n",
    "    item_ids = list(filter(lambda x: x not in seen_movies, item_ids))\n",
    "    \n",
    "    print(\"user \"+str(user_id) +\" has seen \"+str(len(seen_movies)) + \" movies. \"+\n",
    "          \"Computing ratings for \"+str(len(item_ids))+ \" other movies\")\n",
    "    \n",
    "    item_ids = np.array(item_ids)\n",
    "    user = np.zeros_like(item_ids)\n",
    "    print(user[:5])\n",
    "    user[:]=user_id\n",
    "    print(user[:5])\n",
    "    items_meta = items[\"scaled_date\"][item_ids].values\n",
    "    \n",
    "    rating_preds = model.predict([user, item_ids, items_meta])\n",
    "    \n",
    "    item_ids = np.argsort(rating_preds[:,0])[::-1].tolist()\n",
    "    rec_items = item_ids[:top_n]\n",
    "    return [(items[\"name\"][movie], rating_preds[movie][0]) for movie in rec_items]"
   ]
  },
  {
   "cell_type": "code",
   "execution_count": 55,
   "metadata": {
    "collapsed": false
   },
   "outputs": [
    {
     "name": "stdout",
     "output_type": "stream",
     "text": [
      "user 3 has seen 54 movies. Computing ratings for 1627 other movies\n",
      "[0 0 0 0 0]\n",
      "[3 3 3 3 3]\n"
     ]
    },
    {
     "data": {
      "text/plain": [
       "[('Hurricane Streets (1998)', 4.6136804),\n",
       " ('Somebody to Love (1994)', 4.3391309),\n",
       " ('Fair Game (1995)', 4.2761755),\n",
       " ('Land Before Time III: The Time of the Great Giving (1995) (V)', 4.1431518),\n",
       " ('Nixon (1995)', 4.1225491),\n",
       " ('Harold and Maude (1971)', 4.0781593),\n",
       " ('Gold Diggers: The Secret of Bear Mountain (1995)', 4.0780897),\n",
       " ('Twister (1996)', 4.0735989),\n",
       " ('Office Killer (1997)', 4.0703292),\n",
       " ('Gone with the Wind (1939)', 4.0655866)]"
      ]
     },
     "execution_count": 55,
     "metadata": {},
     "output_type": "execute_result"
    }
   ],
   "source": [
    "recommend(3)"
   ]
  },
  {
   "cell_type": "code",
   "execution_count": 56,
   "metadata": {
    "collapsed": false
   },
   "outputs": [
    {
     "data": {
      "text/plain": [
       "array([1, 2, 3, 4, 5])"
      ]
     },
     "execution_count": 56,
     "metadata": {},
     "output_type": "execute_result"
    }
   ],
   "source": [
    "import numpy as np\n",
    "\n",
    "np.unique(rating_train)"
   ]
  },
  {
   "cell_type": "code",
   "execution_count": 60,
   "metadata": {
    "collapsed": false
   },
   "outputs": [
    {
     "name": "stderr",
     "output_type": "stream",
     "text": [
      "/Users/taemyung/anaconda/envs/py35/lib/python3.5/site-packages/ipykernel/__main__.py:24: UserWarning: The `merge` function is deprecated and will be removed after 08/2017. Use instead layers from `keras.layers.merge`, e.g. `add`, `concatenate`, etc.\n",
      "/Users/taemyung/anaconda/envs/py35/lib/python3.5/site-packages/keras/legacy/layers.py:458: UserWarning: The `Merge` layer is deprecated and will be removed after 08/2017. Use instead layers from `keras.layers.merge`, e.g. `add`, `concatenate`, etc.\n",
      "  name=name)\n",
      "/Users/taemyung/anaconda/envs/py35/lib/python3.5/site-packages/ipykernel/__main__.py:30: UserWarning: Update your `Dense` call to the Keras 2 API: `Dense(activation=\"softmax\", units=5)`\n"
     ]
    },
    {
     "name": "stdout",
     "output_type": "stream",
     "text": [
      "Random init MSE: 3.605\n",
      "Random init MAE: 1.650\n",
      "Train on 72000 samples, validate on 8000 samples\n",
      "Epoch 1/6\n",
      "3s - loss: 1.3621 - val_loss: 1.2894\n",
      "Epoch 2/6\n",
      "3s - loss: 1.2796 - val_loss: 1.2727\n",
      "Epoch 3/6\n",
      "3s - loss: 1.2616 - val_loss: 1.2679\n",
      "Epoch 4/6\n",
      "3s - loss: 1.2501 - val_loss: 1.2668\n",
      "Epoch 5/6\n",
      "3s - loss: 1.2444 - val_loss: 1.2612\n",
      "Epoch 6/6\n",
      "3s - loss: 1.2402 - val_loss: 1.2594\n",
      "Final test MSE: 1.180\n",
      "Final test MAE: 0.724\n"
     ]
    },
    {
     "data": {
      "image/png": "[encoded data removed]",
      "text/plain": [
       "<matplotlib.figure.Figure at 0x127db6f98>"
      ]
     },
     "metadata": {},
     "output_type": "display_data"
    }
   ],
   "source": [
    "# %load solutions/classification.py\n",
    "# For each sample we input the integer identifiers\n",
    "# of a single user and a single item\n",
    "user_id_input = Input(shape=[1], name='user')\n",
    "item_id_input = Input(shape=[1], name='item')\n",
    "meta_input = Input(shape=[1], name='meta_item')\n",
    "\n",
    "embedding_size = 16\n",
    "dense_size = 128\n",
    "dropout_embedding = 0.5\n",
    "dropout_hidden = 0.2\n",
    "\n",
    "user_embedding = Embedding(output_dim=embedding_size, input_dim=max_user_id + 1,\n",
    "                           input_length=1, name='user_embedding')(user_id_input)\n",
    "item_embedding = Embedding(output_dim=embedding_size, input_dim=max_item_id + 1,\n",
    "                           input_length=1, name='item_embedding')(item_id_input)\n",
    "\n",
    "# reshape from shape: (batch_size, input_length, embedding_size)\n",
    "# to shape: (batch_size, input_length * embedding_size) which is\n",
    "# equal to shape: (batch_size, embedding_size)\n",
    "user_vecs = Flatten()(user_embedding)\n",
    "item_vecs = Flatten()(item_embedding)\n",
    "\n",
    "input_vecs = merge([user_vecs, item_vecs, meta_input], mode='concat')\n",
    "input_vecs = Dropout(dropout_embedding)(input_vecs)\n",
    "\n",
    "x = Dense(dense_size, activation='relu')(input_vecs)\n",
    "x = Dropout(dropout_hidden)(x)\n",
    "x = Dense(dense_size, activation='relu')(x)\n",
    "y = Dense(output_dim=5, activation='softmax')(x)\n",
    "\n",
    "model = Model(inputs=[user_id_input, item_id_input, meta_input], outputs=y)\n",
    "model.compile(optimizer='adam', loss='sparse_categorical_crossentropy')\n",
    "\n",
    "initial_train_preds = model.predict([user_id_train, item_id_train, item_meta_train]).argmax(axis=1) + 1\n",
    "initial_train_preds = initial_train_preds.reshape(80000)\n",
    "print(\"Random init MSE: %0.3f\" % mean_squared_error(initial_train_preds, rating_train))\n",
    "print(\"Random init MAE: %0.3f\" % mean_absolute_error(initial_train_preds, rating_train))\n",
    "\n",
    "\n",
    "history = model.fit([user_id_train, item_id_train, item_meta_train], rating_train - 1,\n",
    "                    batch_size=64, epochs=6, validation_split=0.1,\n",
    "                    shuffle=True, verbose=2)\n",
    "\n",
    "plt.plot(history.history['loss'], label='train')\n",
    "plt.plot(history.history['val_loss'], label='validation')\n",
    "plt.ylim(0, 2)\n",
    "plt.legend(loc='best')\n",
    "plt.title('loss');\n",
    "\n",
    "test_preds = model.predict([user_id_test, item_id_test, item_meta_test]).argmax(axis=1) + 1\n",
    "print(\"Final test MSE: %0.3f\" % mean_squared_error(test_preds, rating_test))\n",
    "print(\"Final test MAE: %0.3f\" % mean_absolute_error(test_preds, rating_test))"
   ]
  },
  {
   "cell_type": "code",
   "execution_count": 61,
   "metadata": {
    "collapsed": false
   },
   "outputs": [
    {
     "name": "stdout",
     "output_type": "stream",
     "text": [
      "user 3 has seen 54 movies. Computing ratings for 1627 other movies\n",
      "[0 0 0 0 0]\n",
      "[3 3 3 3 3]\n"
     ]
    },
    {
     "data": {
      "text/plain": [
       "[('Black Sheep (1996)', 0.8024801),\n",
       " (\"Widows' Peak (1994)\", 0.7631461),\n",
       " ('Titanic (1997)', 0.74229753),\n",
       " ('Giant (1956)', 0.71244299),\n",
       " ('Adventures of Priscilla, Queen of the Desert, The (1994)', 0.70205975),\n",
       " ('Face/Off (1997)', 0.69063991),\n",
       " ('Christmas Carol, A (1938)', 0.68475533),\n",
       " ('Ghost (1990)', 0.68354386),\n",
       " ('Love! Valour! Compassion! (1997)', 0.67114615),\n",
       " ('For Richer or Poorer (1997)', 0.66435945)]"
      ]
     },
     "execution_count": 61,
     "metadata": {},
     "output_type": "execute_result"
    }
   ],
   "source": [
    "recommend(3)"
   ]
  },
  {
   "cell_type": "code",
   "execution_count": null,
   "metadata": {
    "collapsed": true
   },
   "outputs": [],
   "source": []
  }
 ],
 "metadata": {
  "kernelspec": {
   "display_name": "Python 3",
   "language": "python",
   "name": "python3"
  },
  "language_info": {
   "codemirror_mode": {
    "name": "ipython",
    "version": 3
   },
   "file_extension": ".py",
   "mimetype": "text/x-python",
   "name": "python",
   "nbconvert_exporter": "python",
   "pygments_lexer": "ipython3",
   "version": "3.5.3"
  }
 },
 "nbformat": 4,
 "nbformat_minor": 2
}
