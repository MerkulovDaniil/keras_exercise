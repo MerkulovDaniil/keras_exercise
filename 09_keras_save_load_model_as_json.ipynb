{
 "cells": [
  {
   "cell_type": "code",
   "execution_count": 6,
   "metadata": {
    "collapsed": false
   },
   "outputs": [],
   "source": [
    "# MLP for Pima Indians Dataset serialize to JSON and HDF5\n",
    "from keras.models import Sequential\n",
    "from keras.layers import Dense\n",
    "from keras.models import model_from_json\n",
    "import numpy\n",
    "import os\n",
    "import json\n",
    "\n",
    "# fix random seed for reproducibility\n",
    "seed = 7\n",
    "numpy.random.seed(seed)"
   ]
  },
  {
   "cell_type": "code",
   "execution_count": 2,
   "metadata": {
    "collapsed": true
   },
   "outputs": [],
   "source": [
    "# load pima indians dataset\n",
    "dataset = numpy.loadtxt(\"pima-indians-diabetes.csv\", delimiter=\",\")\n",
    "\n",
    "# split into input (X) and output (Y) variables\n",
    "X = dataset[:,0:8]\n",
    "Y = dataset[:,8]"
   ]
  },
  {
   "cell_type": "code",
   "execution_count": 3,
   "metadata": {
    "collapsed": true
   },
   "outputs": [],
   "source": [
    "# create model\n",
    "model = Sequential()\n",
    "model.add(Dense(12, input_dim=8, init='uniform', activation='relu'))\n",
    "model.add(Dense(8, init='uniform', activation='relu'))\n",
    "model.add(Dense(1, init='uniform', activation='sigmoid'))"
   ]
  },
  {
   "cell_type": "code",
   "execution_count": 4,
   "metadata": {
    "collapsed": false
   },
   "outputs": [
    {
     "name": "stdout",
     "output_type": "stream",
     "text": [
      "acc: 77.08%\n"
     ]
    }
   ],
   "source": [
    "# compile model\n",
    "model.compile(loss='binary_crossentropy', optimizer='adam', metrics=['accuracy'])\n",
    "\n",
    "# fit the model\n",
    "model.fit(X, Y, nb_epoch=150, batch_size=10, verbose=0)\n",
    "\n",
    "# evaluate the model\n",
    "scores = model.evaluate(X, Y, verbose=0)\n",
    "print(\"%s: %.2f%%\" % (model.metrics_names[1], scores[1]*100))"
   ]
  },
  {
   "cell_type": "code",
   "execution_count": 20,
   "metadata": {
    "collapsed": false
   },
   "outputs": [
    {
     "name": "stdout",
     "output_type": "stream",
     "text": [
      "{\n",
      "  \"class_name\": \"Sequential\", \n",
      "  \"keras_version\": \"1.2.2\", \n",
      "  \"config\": [\n",
      "    {\n",
      "      \"class_name\": \"Dense\", \n",
      "      \"config\": {\n",
      "        \"W_constraint\": null, \n",
      "        \"b_constraint\": null, \n",
      "        \"name\": \"dense_1\", \n",
      "        \"activity_regularizer\": null, \n",
      "        \"trainable\": true, \n",
      "        \"init\": \"uniform\", \n",
      "        \"bias\": true, \n",
      "        \"activation\": \"relu\", \n",
      "        \"input_dtype\": \"float32\", \n",
      "        \"input_dim\": 8, \n",
      "        \"b_regularizer\": null, \n",
      "        \"W_regularizer\": null, \n",
      "        \"output_dim\": 12, \n",
      "        \"batch_input_shape\": [\n",
      "          null, \n",
      "          8\n",
      "        ]\n",
      "      }\n",
      "    }, \n",
      "    {\n",
      "      \"class_name\": \"Dense\", \n",
      "      \"config\": {\n",
      "        \"W_constraint\": null, \n",
      "        \"b_constraint\": null, \n",
      "        \"name\": \"dense_2\", \n",
      "        \"activity_regularizer\": null, \n",
      "        \"trainable\": true, \n",
      "        \"init\": \"uniform\", \n",
      "        \"bias\": true, \n",
      "        \"input_dim\": 12, \n",
      "        \"b_regularizer\": null, \n",
      "        \"W_regularizer\": null, \n",
      "        \"activation\": \"relu\", \n",
      "        \"output_dim\": 8\n",
      "      }\n",
      "    }, \n",
      "    {\n",
      "      \"class_name\": \"Dense\", \n",
      "      \"config\": {\n",
      "        \"W_constraint\": null, \n",
      "        \"b_constraint\": null, \n",
      "        \"name\": \"dense_3\", \n",
      "        \"activity_regularizer\": null, \n",
      "        \"trainable\": true, \n",
      "        \"init\": \"uniform\", \n",
      "        \"bias\": true, \n",
      "        \"input_dim\": 8, \n",
      "        \"b_regularizer\": null, \n",
      "        \"W_regularizer\": null, \n",
      "        \"activation\": \"sigmoid\", \n",
      "        \"output_dim\": 1\n",
      "      }\n",
      "    }\n",
      "  ]\n",
      "}\n",
      "Saved model to disk\n"
     ]
    }
   ],
   "source": [
    "# serialize model to JSON\n",
    "model_json = model.to_json()\n",
    "print(json.dumps(json.loads(model_json), indent=2))\n",
    "with open(\"model.json\", \"w\") as json_file:\n",
    "    json_file.write(model_json)\n",
    "\n",
    "# serialize weights to HDF5\n",
    "model.save_weights(\"weights_json.h5\")\n",
    "print(\"Saved model to disk\")"
   ]
  },
  {
   "cell_type": "code",
   "execution_count": 21,
   "metadata": {
    "collapsed": false
   },
   "outputs": [
    {
     "name": "stdout",
     "output_type": "stream",
     "text": [
      "Loaded model from disk\n"
     ]
    }
   ],
   "source": [
    "# later...\n",
    " \n",
    "# load json and create model\n",
    "json_file = open('model.json', 'r')\n",
    "loaded_model_json = json_file.read()\n",
    "json_file.close()\n",
    "loaded_model = model_from_json(loaded_model_json)\n",
    "\n",
    "# load weights into new model\n",
    "loaded_model.load_weights(\"weights_json.h5\")\n",
    "print(\"Loaded model from disk\")"
   ]
  },
  {
   "cell_type": "code",
   "execution_count": 22,
   "metadata": {
    "collapsed": false
   },
   "outputs": [
    {
     "name": "stdout",
     "output_type": "stream",
     "text": [
      "acc: 77.08%\n"
     ]
    }
   ],
   "source": [
    "# evaluate loaded model on test data\n",
    "loaded_model.compile(loss='binary_crossentropy', optimizer='adam', metrics=['accuracy'])\n",
    "score = loaded_model.evaluate(X, Y, verbose=0)\n",
    "print \"%s: %.2f%%\" % (loaded_model.metrics_names[1], score[1]*100)"
   ]
  },
  {
   "cell_type": "code",
   "execution_count": null,
   "metadata": {
    "collapsed": true
   },
   "outputs": [],
   "source": []
  }
 ],
 "metadata": {
  "kernelspec": {
   "display_name": "Python 2",
   "language": "python",
   "name": "python2"
  },
  "language_info": {
   "codemirror_mode": {
    "name": "ipython",
    "version": 2
   },
   "file_extension": ".py",
   "mimetype": "text/x-python",
   "name": "python",
   "nbconvert_exporter": "python",
   "pygments_lexer": "ipython2",
   "version": "2.7.12"
  }
 },
 "nbformat": 4,
 "nbformat_minor": 0
}
