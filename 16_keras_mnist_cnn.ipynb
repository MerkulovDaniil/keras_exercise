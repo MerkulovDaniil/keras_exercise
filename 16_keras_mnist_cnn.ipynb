{
 "cells": [
  {
   "cell_type": "code",
   "execution_count": 1,
   "metadata": {
    "collapsed": false
   },
   "outputs": [
    {
     "name": "stderr",
     "output_type": "stream",
     "text": [
      "Using TensorFlow backend.\n"
     ]
    }
   ],
   "source": [
    "import numpy\n",
    "from keras.datasets import mnist\n",
    "from keras.models import Sequential\n",
    "from keras.layers import Dense\n",
    "from keras.layers import Dropout\n",
    "from keras.layers import Flatten\n",
    "from keras.layers.convolutional import Convolution2D\n",
    "from keras.layers.convolutional import MaxPooling2D\n",
    "from keras.utils import np_utils\n",
    "from keras import backend as K\n",
    "\n",
    "# fix random seed for reproducibility\n",
    "seed = 7\n",
    "numpy.random.seed(seed)"
   ]
  },
  {
   "cell_type": "code",
   "execution_count": 2,
   "metadata": {
    "collapsed": true
   },
   "outputs": [],
   "source": [
    "# load data\n",
    "(X_train, y_train), (X_test, y_test) = mnist.load_data()\n",
    "\n",
    "# reshape to be [samples][width][height][channels]\n",
    "X_train = X_train.reshape(X_train.shape[0], 28, 28, 1).astype('float32')\n",
    "X_test = X_test.reshape(X_test.shape[0], 28, 28, 1).astype('float32')"
   ]
  },
  {
   "cell_type": "code",
   "execution_count": 3,
   "metadata": {
    "collapsed": true
   },
   "outputs": [],
   "source": [
    "# normalize inputs from 0-255 to 0-1\n",
    "X_train = X_train / 255\n",
    "X_test = X_test / 255\n",
    "\n",
    "# one hot encode outputs\n",
    "y_train = np_utils.to_categorical(y_train)\n",
    "y_test = np_utils.to_categorical(y_test)\n",
    "num_classes = y_test.shape[1]"
   ]
  },
  {
   "cell_type": "code",
   "execution_count": 4,
   "metadata": {
    "collapsed": true
   },
   "outputs": [],
   "source": [
    "def baseline_model():\n",
    "    # create model\n",
    "    model = Sequential()\n",
    "    model.add(Convolution2D(32, 5, 5, border_mode='valid', input_shape=(28, 28, 1), activation='relu'))\n",
    "    model.add(MaxPooling2D(pool_size=(2, 2)))\n",
    "    model.add(Dropout(0.2))\n",
    "    model.add(Flatten())\n",
    "    model.add(Dense(128, activation='relu'))\n",
    "    model.add(Dense(num_classes, activation='softmax'))\n",
    "    \n",
    "    # compile model\n",
    "    model.compile(loss='categorical_crossentropy', optimizer='adam', metrics=['accuracy'])\n",
    "    return model"
   ]
  },
  {
   "cell_type": "code",
   "execution_count": 5,
   "metadata": {
    "collapsed": false
   },
   "outputs": [
    {
     "name": "stdout",
     "output_type": "stream",
     "text": [
      "Train on 60000 samples, validate on 10000 samples\n",
      "Epoch 1/10\n",
      "23s - loss: 0.2520 - acc: 0.9272 - val_loss: 0.0861 - val_acc: 0.9748\n",
      "Epoch 2/10\n",
      "22s - loss: 0.0767 - acc: 0.9770 - val_loss: 0.0631 - val_acc: 0.9796\n",
      "Epoch 3/10\n",
      "23s - loss: 0.0553 - acc: 0.9825 - val_loss: 0.0488 - val_acc: 0.9835\n",
      "Epoch 4/10\n",
      "23s - loss: 0.0423 - acc: 0.9875 - val_loss: 0.0403 - val_acc: 0.9872\n",
      "Epoch 5/10\n",
      "23s - loss: 0.0346 - acc: 0.9893 - val_loss: 0.0349 - val_acc: 0.9886\n",
      "Epoch 6/10\n",
      "23s - loss: 0.0288 - acc: 0.9909 - val_loss: 0.0350 - val_acc: 0.9886\n",
      "Epoch 7/10\n",
      "23s - loss: 0.0233 - acc: 0.9927 - val_loss: 0.0339 - val_acc: 0.9884\n",
      "Epoch 8/10\n",
      "24s - loss: 0.0192 - acc: 0.9939 - val_loss: 0.0351 - val_acc: 0.9888\n",
      "Epoch 9/10\n",
      "23s - loss: 0.0174 - acc: 0.9940 - val_loss: 0.0320 - val_acc: 0.9888\n",
      "Epoch 10/10\n",
      "23s - loss: 0.0133 - acc: 0.9957 - val_loss: 0.0332 - val_acc: 0.9898\n",
      "Baseline Error: 1.02%\n"
     ]
    }
   ],
   "source": [
    "# build the model\n",
    "model = baseline_model()\n",
    "\n",
    "# fit the model\n",
    "model.fit(X_train, y_train, validation_data=(X_test, y_test), nb_epoch=10, batch_size=200, verbose=2)\n",
    "\n",
    "# final evaluation of the model\n",
    "scores = model.evaluate(X_test, y_test, verbose=0)\n",
    "print(\"Baseline Error: %.2f%%\" % (100-scores[1]*100))"
   ]
  },
  {
   "cell_type": "code",
   "execution_count": 6,
   "metadata": {
    "collapsed": true
   },
   "outputs": [],
   "source": [
    "def larger_model():\n",
    "    # create model\n",
    "    model = Sequential()\n",
    "    model.add(Convolution2D(30, 5, 5, border_mode='valid', input_shape=(28, 28, 1), activation='relu'))\n",
    "    model.add(MaxPooling2D(pool_size=(2, 2)))\n",
    "    model.add(Convolution2D(15, 3, 3, activation='relu'))\n",
    "    model.add(MaxPooling2D(pool_size=(2, 2)))\n",
    "    model.add(Dropout(0.2))\n",
    "    model.add(Flatten())\n",
    "    model.add(Dense(128, activation='relu'))\n",
    "    model.add(Dense(50, activation='relu'))\n",
    "    model.add(Dense(num_classes, activation='softmax'))\n",
    "    \n",
    "    # compile model\n",
    "    model.compile(loss='categorical_crossentropy', optimizer='adam', metrics=['accuracy'])\n",
    "    return model"
   ]
  },
  {
   "cell_type": "code",
   "execution_count": 7,
   "metadata": {
    "collapsed": false
   },
   "outputs": [
    {
     "name": "stdout",
     "output_type": "stream",
     "text": [
      "Train on 60000 samples, validate on 10000 samples\n",
      "Epoch 1/10\n",
      "27s - loss: 0.4038 - acc: 0.8777 - val_loss: 0.0859 - val_acc: 0.9725\n",
      "Epoch 2/10\n",
      "27s - loss: 0.0989 - acc: 0.9699 - val_loss: 0.0508 - val_acc: 0.9830\n",
      "Epoch 3/10\n",
      "28s - loss: 0.0693 - acc: 0.9792 - val_loss: 0.0390 - val_acc: 0.9873\n",
      "Epoch 4/10\n",
      "27s - loss: 0.0601 - acc: 0.9812 - val_loss: 0.0340 - val_acc: 0.9881\n",
      "Epoch 5/10\n",
      "27s - loss: 0.0484 - acc: 0.9847 - val_loss: 0.0306 - val_acc: 0.9903\n",
      "Epoch 6/10\n",
      "27s - loss: 0.0441 - acc: 0.9858 - val_loss: 0.0283 - val_acc: 0.9910\n",
      "Epoch 7/10\n",
      "27s - loss: 0.0396 - acc: 0.9875 - val_loss: 0.0373 - val_acc: 0.9886\n",
      "Epoch 8/10\n",
      "29s - loss: 0.0368 - acc: 0.9878 - val_loss: 0.0263 - val_acc: 0.9920\n",
      "Epoch 9/10\n",
      "28s - loss: 0.0307 - acc: 0.9902 - val_loss: 0.0272 - val_acc: 0.9915\n",
      "Epoch 10/10\n",
      "28s - loss: 0.0304 - acc: 0.9904 - val_loss: 0.0242 - val_acc: 0.9918\n",
      "Baseline Error: 0.82%\n"
     ]
    }
   ],
   "source": [
    "# build the model\n",
    "model = larger_model()\n",
    "\n",
    "# fit the model\n",
    "model.fit(X_train, y_train, validation_data=(X_test, y_test), nb_epoch=10, batch_size=200, verbose=2)\n",
    "\n",
    "# final evaluation of the model\n",
    "scores = model.evaluate(X_test, y_test, verbose=0)\n",
    "print(\"Baseline Error: %.2f%%\" % (100-scores[1]*100))"
   ]
  },
  {
   "cell_type": "code",
   "execution_count": null,
   "metadata": {
    "collapsed": true
   },
   "outputs": [],
   "source": []
  }
 ],
 "metadata": {
  "kernelspec": {
   "display_name": "Python 2",
   "language": "python",
   "name": "python2"
  },
  "language_info": {
   "codemirror_mode": {
    "name": "ipython",
    "version": 2
   },
   "file_extension": ".py",
   "mimetype": "text/x-python",
   "name": "python",
   "nbconvert_exporter": "python",
   "pygments_lexer": "ipython2",
   "version": "2.7.12"
  }
 },
 "nbformat": 4,
 "nbformat_minor": 0
}
